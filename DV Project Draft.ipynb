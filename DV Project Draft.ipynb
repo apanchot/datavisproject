{
 "cells": [
  {
   "cell_type": "markdown",
   "metadata": {},
   "source": [
    "# TSP Problem\n",
    "\n",
    "## 1. Defining a function to compute de distances between two gps coordinates."
   ]
  },
  {
   "cell_type": "code",
   "execution_count": 14,
   "metadata": {},
   "outputs": [],
   "source": [
    "from math import sin, cos, sqrt, atan2, radians\n",
    "\n",
    "def distance(x, y):\n",
    "    R = 6373.0\n",
    "    \n",
    "    lat1 = radians(selected_cities.loc[x,'lat'])\n",
    "    lon1 = radians(selected_cities.loc[x,'lng'])\n",
    "    lat2 = radians(selected_cities.loc[y,'lat'])\n",
    "    lon2 = radians(selected_cities.loc[y,'lng'])\n",
    "    \n",
    "    dlon = lon2 - lon1\n",
    "    dlat = lat2 - lat1\n",
    "    \n",
    "    a = sin(dlat / 2)**2 + cos(lat1) * cos(lat2) * sin(dlon / 2)**2\n",
    "    c = 2 * atan2(sqrt(a), sqrt(1 - a))\n",
    "    \n",
    "    distance = R * c\n",
    "    \n",
    "    return distance\n"
   ]
  },
  {
   "cell_type": "markdown",
   "metadata": {},
   "source": [
    "# 2. Importing a dataframe that contains latitude and longitude coordinates of 15,493 cities from around the world."
   ]
  },
  {
   "cell_type": "code",
   "execution_count": 15,
   "metadata": {},
   "outputs": [],
   "source": [
    "import pandas as pd\n",
    "cities_coordinates = pd.read_csv('worldcities.csv')"
   ]
  },
  {
   "cell_type": "markdown",
   "metadata": {},
   "source": [
    "# 3. Selecting a group of 22 big cities"
   ]
  },
  {
   "cell_type": "code",
   "execution_count": 16,
   "metadata": {},
   "outputs": [],
   "source": [
    "selected = ['Tokyo','New York','Mexico City','Rio de Janeiro','Los Angeles','Buenos Aires','Rome','Lisbon','Paris',\n",
    "            'Munich','Changping','Delhi','Sydney','Moscow','Istanbul','Cape Town','Madrid','Seoul','London','Bangkok',\n",
    "            'Toronto','Dubai']\n",
    "selected_cities = cities_coordinates.loc[cities_coordinates['city'].isin(selected),['city','country','lat','lng']]\n",
    "selected_cities.reset_index(inplace = True, drop = True)\n",
    "selected_cities = selected_cities.loc[0:21,:]\n",
    "selected_cities = selected_cities.drop('country', axis = 1)\n",
    "selected_cities.set_index('city', inplace = True)"
   ]
  },
  {
   "cell_type": "markdown",
   "metadata": {},
   "source": [
    "# 4. Computing the distances between each of them."
   ]
  },
  {
   "cell_type": "code",
   "execution_count": 17,
   "metadata": {},
   "outputs": [],
   "source": [
    "data = [[distance(i,j) for j in selected_cities.index] for i in selected_cities.index]"
   ]
  },
  {
   "cell_type": "markdown",
   "metadata": {},
   "source": [
    "# 5. Running the GA Algorithm."
   ]
  },
  {
   "cell_type": "code",
   "execution_count": 18,
   "metadata": {},
   "outputs": [],
   "source": [
    "import numpy as np\n",
    "import pandas as pd\n",
    "import random\n",
    "\n",
    "def initial(dv, pop_size):\n",
    "    pop = [list(np.random.permutation(dv)) for i in range(pop_size)]\n",
    "    return pop\n",
    "\n",
    "def fitness_aux(x):\n",
    "    y=[data[x[i]][x[i+1]] for i in range(len(x)) if i < (len(x)-1)]\n",
    "    y.append(data[x[-1]][x[0]])\n",
    "    return sum(y)\n",
    "\n",
    "def fitness_function(x):\n",
    "    y = [fitness_aux(x[i]) for i in range(len(x))]\n",
    "    return y\n",
    "\n",
    "def tournament_selection(x, size = 5):\n",
    "    candidates = list(np.random.choice(range(len(x)), size))\n",
    "    candidates_fitness = [fitness[i] for i in candidates]\n",
    "    champion = candidates[candidates_fitness.index(min(candidates_fitness))]\n",
    "    return champion\n",
    "\n",
    "def select_parents(x):\n",
    "    parents_index = [tournament_selection(x) for i in range(len(x))]\n",
    "    parents = [x[i] for i in parents_index]\n",
    "    return parents\n",
    "\n",
    "def order_crossover(a,b):\n",
    "    points = list(np.random.choice(range(1,len(a)), 2, replace=False))\n",
    "    points.sort()\n",
    "    point1, point2 = points[0], points[1]\n",
    "    \n",
    "    child_a = [-1]*len(a)\n",
    "    child_a[point1 : point2] = a[point1 : point2]\n",
    "    conflict_a = a[point1 : point2]\n",
    "    mapping_a = [i for i in b[point2:] + b[:point2] if i not in conflict_a] \n",
    "    diff=len(a)-point2\n",
    "    child_a[point2:] = mapping_a[:diff]\n",
    "    child_a[:point1] = mapping_a[diff:]\n",
    "    \n",
    "    child_b = [-1]*len(b)\n",
    "    child_b[point1 : point2] = b[point1 : point2]\n",
    "    conflict_b = b[point1 : point2]\n",
    "    mapping_b = [i for i in a[point2:] + a[:point2] if i not in conflict_b] \n",
    "    diff=len(b)-point2\n",
    "    child_b[point2:] = mapping_b[:diff]\n",
    "    child_b[:point1] = mapping_b[diff:]\n",
    "    \n",
    "    return child_a, child_b\n",
    "\n",
    "def inversion_mutation(a):\n",
    "    points = list(np.random.choice(range(1,len(a)), 2, replace=False))\n",
    "    points.sort()\n",
    "    point1, point2 = points[0], points[1]\n",
    "    child = a[:point1] + a[point1:point2][::-1] + a[point2:]\n",
    "    return child\n",
    "\n",
    "def elitism_replacement(population, fitness, offspring, fitness_offspring):\n",
    "    if min(fitness) < min(fitness_offspring):\n",
    "        offspring[fitness_offspring.index(max(fitness_offspring))] = population[fitness.index(min(fitness))]\n",
    "    return offspring\n",
    "\n",
    "def save_best_fitness(population, fitness):\n",
    "    best = fitness.index(min(fitness))\n",
    "    return population[best], fitness[best]\n",
    "\n",
    "\n",
    "decision_variables = list(range(len(data)))\n",
    "population = initial(decision_variables, 20)\n",
    "fitness = fitness_function(population)\n",
    "best = save_best_fitness(population, fitness)\n",
    "generation, best_fitness, fittest = [0], [best[1]], [str(best[0])]\n",
    "\n",
    "for gen in range(1000):\n",
    "    parents = select_parents(population)\n",
    "    offspring = parents.copy()\n",
    "    for i in range(0,len(population),2):\n",
    "        if (np.random.uniform() < 0.6):\n",
    "            offspring[i],offspring[i+1] = order_crossover(parents[i],parents[i+1])\n",
    "    for i in range(len(population)):\n",
    "        if (np.random.uniform() < 0.6):\n",
    "            offspring[i] = inversion_mutation(offspring[i])\n",
    "    fitness_offspring = fitness_function(offspring)\n",
    "    population = elitism_replacement(population, fitness, offspring, fitness_offspring)\n",
    "    fitness = fitness_function(population)\n",
    "    best = save_best_fitness(population, fitness)\n",
    "    generation.append(gen+1), best_fitness.append(best[1]), fittest.append(str(best[0]))\n",
    "\n",
    "generation = pd.Series(generation)\n",
    "best_fitness = pd.Series(best_fitness)\n",
    "fittest = pd.Series(fittest)\n",
    "run = pd.concat([generation, best_fitness, fittest], axis = 1)\n",
    "run.columns = ['Generation', 'Fitness', 'Fittest']\n",
    "run.drop_duplicates('Fittest', inplace=True)"
   ]
  },
  {
   "cell_type": "markdown",
   "metadata": {},
   "source": [
    "# 6. Preparing the dataframe"
   ]
  },
  {
   "cell_type": "code",
   "execution_count": 19,
   "metadata": {},
   "outputs": [],
   "source": [
    "def path(x):\n",
    "    best_fitness_aux = run.loc[x,'Fittest'].replace(',','').replace('[','').replace(']','').split(' ')\n",
    "    path_best_fitness = [int(i) for i in best_fitness_aux]\n",
    "    path_best_fitness = path_best_fitness + [path_best_fitness[0]]\n",
    "    return path_best_fitness"
   ]
  },
  {
   "cell_type": "code",
   "execution_count": 20,
   "metadata": {},
   "outputs": [],
   "source": [
    "generation = lambda x: ['Generation_'+str(run.loc[x,'Generation'])]*len(path(x))\n",
    "total_distance = lambda x: [run.loc[x,'Fitness']]*len(path(x))"
   ]
  },
  {
   "cell_type": "code",
   "execution_count": 21,
   "metadata": {},
   "outputs": [],
   "source": [
    "all_path = []\n",
    "all_generation = []\n",
    "all_distances = []\n",
    "for i in run.loc[:,'Generation']:\n",
    "    all_path = all_path + path(i)\n",
    "    all_generation = all_generation + generation(i) \n",
    "    all_distances = all_distances + total_distance(i)"
   ]
  },
  {
   "cell_type": "code",
   "execution_count": 22,
   "metadata": {},
   "outputs": [],
   "source": [
    "all_generation = pd.Series(all_generation)\n",
    "all_path = pd.Series(all_path)\n",
    "all_distances = pd.Series(all_distances)"
   ]
  },
  {
   "cell_type": "code",
   "execution_count": 23,
   "metadata": {},
   "outputs": [],
   "source": [
    "x_coordinate = [selected_cities.iloc[i,0] for i in all_path]\n",
    "y_coordinate = [selected_cities.iloc[i,1] for i in all_path]\n",
    "name_city = [selected_cities.index[i] for i in all_path]\n",
    "x_coordinate = pd.Series(x_coordinate)\n",
    "y_coordinate = pd.Series(y_coordinate)\n",
    "name_city = pd.Series(name_city)"
   ]
  },
  {
   "cell_type": "code",
   "execution_count": 24,
   "metadata": {},
   "outputs": [],
   "source": [
    "df = pd.concat([all_generation, all_path, all_distances, name_city, x_coordinate, y_coordinate], axis = 1)\n",
    "df.columns = ['generation', 'city', 'distance', 'name_city', 'x_coordinate','y_coordinate']"
   ]
  },
  {
   "cell_type": "code",
   "execution_count": 25,
   "metadata": {},
   "outputs": [
    {
     "data": {
      "text/html": [
       "<div>\n",
       "<style scoped>\n",
       "    .dataframe tbody tr th:only-of-type {\n",
       "        vertical-align: middle;\n",
       "    }\n",
       "\n",
       "    .dataframe tbody tr th {\n",
       "        vertical-align: top;\n",
       "    }\n",
       "\n",
       "    .dataframe thead th {\n",
       "        text-align: right;\n",
       "    }\n",
       "</style>\n",
       "<table border=\"1\" class=\"dataframe\">\n",
       "  <thead>\n",
       "    <tr style=\"text-align: right;\">\n",
       "      <th></th>\n",
       "      <th>generation</th>\n",
       "      <th>city</th>\n",
       "      <th>distance</th>\n",
       "      <th>name_city</th>\n",
       "      <th>x_coordinate</th>\n",
       "      <th>y_coordinate</th>\n",
       "    </tr>\n",
       "  </thead>\n",
       "  <tbody>\n",
       "    <tr>\n",
       "      <th>0</th>\n",
       "      <td>Generation_0</td>\n",
       "      <td>18</td>\n",
       "      <td>165367.271329</td>\n",
       "      <td>Lisbon</td>\n",
       "      <td>38.7227</td>\n",
       "      <td>-9.1449</td>\n",
       "    </tr>\n",
       "    <tr>\n",
       "      <th>1</th>\n",
       "      <td>Generation_0</td>\n",
       "      <td>7</td>\n",
       "      <td>165367.271329</td>\n",
       "      <td>Moscow</td>\n",
       "      <td>55.7522</td>\n",
       "      <td>37.6155</td>\n",
       "    </tr>\n",
       "    <tr>\n",
       "      <th>2</th>\n",
       "      <td>Generation_0</td>\n",
       "      <td>21</td>\n",
       "      <td>165367.271329</td>\n",
       "      <td>Changping</td>\n",
       "      <td>40.2248</td>\n",
       "      <td>116.1944</td>\n",
       "    </tr>\n",
       "    <tr>\n",
       "      <th>3</th>\n",
       "      <td>Generation_0</td>\n",
       "      <td>12</td>\n",
       "      <td>165367.271329</td>\n",
       "      <td>Bangkok</td>\n",
       "      <td>13.7500</td>\n",
       "      <td>100.5166</td>\n",
       "    </tr>\n",
       "    <tr>\n",
       "      <th>4</th>\n",
       "      <td>Generation_0</td>\n",
       "      <td>4</td>\n",
       "      <td>165367.271329</td>\n",
       "      <td>Los Angeles</td>\n",
       "      <td>34.1139</td>\n",
       "      <td>-118.4068</td>\n",
       "    </tr>\n",
       "    <tr>\n",
       "      <th>5</th>\n",
       "      <td>Generation_0</td>\n",
       "      <td>1</td>\n",
       "      <td>165367.271329</td>\n",
       "      <td>New York</td>\n",
       "      <td>40.6943</td>\n",
       "      <td>-73.9249</td>\n",
       "    </tr>\n",
       "    <tr>\n",
       "      <th>6</th>\n",
       "      <td>Generation_0</td>\n",
       "      <td>14</td>\n",
       "      <td>165367.271329</td>\n",
       "      <td>Toronto</td>\n",
       "      <td>43.7000</td>\n",
       "      <td>-79.4200</td>\n",
       "    </tr>\n",
       "    <tr>\n",
       "      <th>7</th>\n",
       "      <td>Generation_0</td>\n",
       "      <td>5</td>\n",
       "      <td>165367.271329</td>\n",
       "      <td>Buenos Aires</td>\n",
       "      <td>-34.6025</td>\n",
       "      <td>-58.3975</td>\n",
       "    </tr>\n",
       "    <tr>\n",
       "      <th>8</th>\n",
       "      <td>Generation_0</td>\n",
       "      <td>11</td>\n",
       "      <td>165367.271329</td>\n",
       "      <td>London</td>\n",
       "      <td>51.5000</td>\n",
       "      <td>-0.1167</td>\n",
       "    </tr>\n",
       "    <tr>\n",
       "      <th>9</th>\n",
       "      <td>Generation_0</td>\n",
       "      <td>20</td>\n",
       "      <td>165367.271329</td>\n",
       "      <td>Munich</td>\n",
       "      <td>48.1299</td>\n",
       "      <td>11.5750</td>\n",
       "    </tr>\n",
       "    <tr>\n",
       "      <th>10</th>\n",
       "      <td>Generation_0</td>\n",
       "      <td>19</td>\n",
       "      <td>165367.271329</td>\n",
       "      <td>Dubai</td>\n",
       "      <td>25.2300</td>\n",
       "      <td>55.2800</td>\n",
       "    </tr>\n",
       "    <tr>\n",
       "      <th>11</th>\n",
       "      <td>Generation_0</td>\n",
       "      <td>2</td>\n",
       "      <td>165367.271329</td>\n",
       "      <td>Mexico City</td>\n",
       "      <td>19.4424</td>\n",
       "      <td>-99.1310</td>\n",
       "    </tr>\n",
       "    <tr>\n",
       "      <th>12</th>\n",
       "      <td>Generation_0</td>\n",
       "      <td>16</td>\n",
       "      <td>165367.271329</td>\n",
       "      <td>Rome</td>\n",
       "      <td>41.8960</td>\n",
       "      <td>12.4833</td>\n",
       "    </tr>\n",
       "    <tr>\n",
       "      <th>13</th>\n",
       "      <td>Generation_0</td>\n",
       "      <td>17</td>\n",
       "      <td>165367.271329</td>\n",
       "      <td>Cape Town</td>\n",
       "      <td>-33.9200</td>\n",
       "      <td>18.4350</td>\n",
       "    </tr>\n",
       "    <tr>\n",
       "      <th>14</th>\n",
       "      <td>Generation_0</td>\n",
       "      <td>15</td>\n",
       "      <td>165367.271329</td>\n",
       "      <td>Sydney</td>\n",
       "      <td>-33.9200</td>\n",
       "      <td>151.1852</td>\n",
       "    </tr>\n",
       "    <tr>\n",
       "      <th>15</th>\n",
       "      <td>Generation_0</td>\n",
       "      <td>13</td>\n",
       "      <td>165367.271329</td>\n",
       "      <td>Madrid</td>\n",
       "      <td>40.4000</td>\n",
       "      <td>-3.6834</td>\n",
       "    </tr>\n",
       "    <tr>\n",
       "      <th>16</th>\n",
       "      <td>Generation_0</td>\n",
       "      <td>9</td>\n",
       "      <td>165367.271329</td>\n",
       "      <td>Paris</td>\n",
       "      <td>48.8667</td>\n",
       "      <td>2.3333</td>\n",
       "    </tr>\n",
       "    <tr>\n",
       "      <th>17</th>\n",
       "      <td>Generation_0</td>\n",
       "      <td>0</td>\n",
       "      <td>165367.271329</td>\n",
       "      <td>Tokyo</td>\n",
       "      <td>35.6850</td>\n",
       "      <td>139.7514</td>\n",
       "    </tr>\n",
       "    <tr>\n",
       "      <th>18</th>\n",
       "      <td>Generation_0</td>\n",
       "      <td>3</td>\n",
       "      <td>165367.271329</td>\n",
       "      <td>Delhi</td>\n",
       "      <td>28.6700</td>\n",
       "      <td>77.2300</td>\n",
       "    </tr>\n",
       "    <tr>\n",
       "      <th>19</th>\n",
       "      <td>Generation_0</td>\n",
       "      <td>10</td>\n",
       "      <td>165367.271329</td>\n",
       "      <td>Seoul</td>\n",
       "      <td>37.5663</td>\n",
       "      <td>126.9997</td>\n",
       "    </tr>\n",
       "    <tr>\n",
       "      <th>20</th>\n",
       "      <td>Generation_0</td>\n",
       "      <td>8</td>\n",
       "      <td>165367.271329</td>\n",
       "      <td>Istanbul</td>\n",
       "      <td>41.1050</td>\n",
       "      <td>29.0100</td>\n",
       "    </tr>\n",
       "    <tr>\n",
       "      <th>21</th>\n",
       "      <td>Generation_0</td>\n",
       "      <td>6</td>\n",
       "      <td>165367.271329</td>\n",
       "      <td>Rio de Janeiro</td>\n",
       "      <td>-22.9250</td>\n",
       "      <td>-43.2250</td>\n",
       "    </tr>\n",
       "    <tr>\n",
       "      <th>22</th>\n",
       "      <td>Generation_0</td>\n",
       "      <td>18</td>\n",
       "      <td>165367.271329</td>\n",
       "      <td>Lisbon</td>\n",
       "      <td>38.7227</td>\n",
       "      <td>-9.1449</td>\n",
       "    </tr>\n",
       "    <tr>\n",
       "      <th>23</th>\n",
       "      <td>Generation_1</td>\n",
       "      <td>6</td>\n",
       "      <td>157172.570304</td>\n",
       "      <td>Rio de Janeiro</td>\n",
       "      <td>-22.9250</td>\n",
       "      <td>-43.2250</td>\n",
       "    </tr>\n",
       "    <tr>\n",
       "      <th>24</th>\n",
       "      <td>Generation_1</td>\n",
       "      <td>18</td>\n",
       "      <td>157172.570304</td>\n",
       "      <td>Lisbon</td>\n",
       "      <td>38.7227</td>\n",
       "      <td>-9.1449</td>\n",
       "    </tr>\n",
       "    <tr>\n",
       "      <th>25</th>\n",
       "      <td>Generation_1</td>\n",
       "      <td>8</td>\n",
       "      <td>157172.570304</td>\n",
       "      <td>Istanbul</td>\n",
       "      <td>41.1050</td>\n",
       "      <td>29.0100</td>\n",
       "    </tr>\n",
       "    <tr>\n",
       "      <th>26</th>\n",
       "      <td>Generation_1</td>\n",
       "      <td>7</td>\n",
       "      <td>157172.570304</td>\n",
       "      <td>Moscow</td>\n",
       "      <td>55.7522</td>\n",
       "      <td>37.6155</td>\n",
       "    </tr>\n",
       "    <tr>\n",
       "      <th>27</th>\n",
       "      <td>Generation_1</td>\n",
       "      <td>4</td>\n",
       "      <td>157172.570304</td>\n",
       "      <td>Los Angeles</td>\n",
       "      <td>34.1139</td>\n",
       "      <td>-118.4068</td>\n",
       "    </tr>\n",
       "    <tr>\n",
       "      <th>28</th>\n",
       "      <td>Generation_1</td>\n",
       "      <td>1</td>\n",
       "      <td>157172.570304</td>\n",
       "      <td>New York</td>\n",
       "      <td>40.6943</td>\n",
       "      <td>-73.9249</td>\n",
       "    </tr>\n",
       "    <tr>\n",
       "      <th>29</th>\n",
       "      <td>Generation_1</td>\n",
       "      <td>14</td>\n",
       "      <td>157172.570304</td>\n",
       "      <td>Toronto</td>\n",
       "      <td>43.7000</td>\n",
       "      <td>-79.4200</td>\n",
       "    </tr>\n",
       "    <tr>\n",
       "      <th>...</th>\n",
       "      <td>...</td>\n",
       "      <td>...</td>\n",
       "      <td>...</td>\n",
       "      <td>...</td>\n",
       "      <td>...</td>\n",
       "      <td>...</td>\n",
       "    </tr>\n",
       "    <tr>\n",
       "      <th>890</th>\n",
       "      <td>Generation_483</td>\n",
       "      <td>4</td>\n",
       "      <td>69646.552910</td>\n",
       "      <td>Los Angeles</td>\n",
       "      <td>34.1139</td>\n",
       "      <td>-118.4068</td>\n",
       "    </tr>\n",
       "    <tr>\n",
       "      <th>891</th>\n",
       "      <td>Generation_483</td>\n",
       "      <td>2</td>\n",
       "      <td>69646.552910</td>\n",
       "      <td>Mexico City</td>\n",
       "      <td>19.4424</td>\n",
       "      <td>-99.1310</td>\n",
       "    </tr>\n",
       "    <tr>\n",
       "      <th>892</th>\n",
       "      <td>Generation_483</td>\n",
       "      <td>5</td>\n",
       "      <td>69646.552910</td>\n",
       "      <td>Buenos Aires</td>\n",
       "      <td>-34.6025</td>\n",
       "      <td>-58.3975</td>\n",
       "    </tr>\n",
       "    <tr>\n",
       "      <th>893</th>\n",
       "      <td>Generation_483</td>\n",
       "      <td>6</td>\n",
       "      <td>69646.552910</td>\n",
       "      <td>Rio de Janeiro</td>\n",
       "      <td>-22.9250</td>\n",
       "      <td>-43.2250</td>\n",
       "    </tr>\n",
       "    <tr>\n",
       "      <th>894</th>\n",
       "      <td>Generation_483</td>\n",
       "      <td>17</td>\n",
       "      <td>69646.552910</td>\n",
       "      <td>Cape Town</td>\n",
       "      <td>-33.9200</td>\n",
       "      <td>18.4350</td>\n",
       "    </tr>\n",
       "    <tr>\n",
       "      <th>895</th>\n",
       "      <td>Generation_483</td>\n",
       "      <td>15</td>\n",
       "      <td>69646.552910</td>\n",
       "      <td>Sydney</td>\n",
       "      <td>-33.9200</td>\n",
       "      <td>151.1852</td>\n",
       "    </tr>\n",
       "    <tr>\n",
       "      <th>896</th>\n",
       "      <td>Generation_483</td>\n",
       "      <td>12</td>\n",
       "      <td>69646.552910</td>\n",
       "      <td>Bangkok</td>\n",
       "      <td>13.7500</td>\n",
       "      <td>100.5166</td>\n",
       "    </tr>\n",
       "    <tr>\n",
       "      <th>897</th>\n",
       "      <td>Generation_499</td>\n",
       "      <td>12</td>\n",
       "      <td>68976.705571</td>\n",
       "      <td>Bangkok</td>\n",
       "      <td>13.7500</td>\n",
       "      <td>100.5166</td>\n",
       "    </tr>\n",
       "    <tr>\n",
       "      <th>898</th>\n",
       "      <td>Generation_499</td>\n",
       "      <td>0</td>\n",
       "      <td>68976.705571</td>\n",
       "      <td>Tokyo</td>\n",
       "      <td>35.6850</td>\n",
       "      <td>139.7514</td>\n",
       "    </tr>\n",
       "    <tr>\n",
       "      <th>899</th>\n",
       "      <td>Generation_499</td>\n",
       "      <td>10</td>\n",
       "      <td>68976.705571</td>\n",
       "      <td>Seoul</td>\n",
       "      <td>37.5663</td>\n",
       "      <td>126.9997</td>\n",
       "    </tr>\n",
       "    <tr>\n",
       "      <th>900</th>\n",
       "      <td>Generation_499</td>\n",
       "      <td>21</td>\n",
       "      <td>68976.705571</td>\n",
       "      <td>Changping</td>\n",
       "      <td>40.2248</td>\n",
       "      <td>116.1944</td>\n",
       "    </tr>\n",
       "    <tr>\n",
       "      <th>901</th>\n",
       "      <td>Generation_499</td>\n",
       "      <td>3</td>\n",
       "      <td>68976.705571</td>\n",
       "      <td>Delhi</td>\n",
       "      <td>28.6700</td>\n",
       "      <td>77.2300</td>\n",
       "    </tr>\n",
       "    <tr>\n",
       "      <th>902</th>\n",
       "      <td>Generation_499</td>\n",
       "      <td>19</td>\n",
       "      <td>68976.705571</td>\n",
       "      <td>Dubai</td>\n",
       "      <td>25.2300</td>\n",
       "      <td>55.2800</td>\n",
       "    </tr>\n",
       "    <tr>\n",
       "      <th>903</th>\n",
       "      <td>Generation_499</td>\n",
       "      <td>7</td>\n",
       "      <td>68976.705571</td>\n",
       "      <td>Moscow</td>\n",
       "      <td>55.7522</td>\n",
       "      <td>37.6155</td>\n",
       "    </tr>\n",
       "    <tr>\n",
       "      <th>904</th>\n",
       "      <td>Generation_499</td>\n",
       "      <td>8</td>\n",
       "      <td>68976.705571</td>\n",
       "      <td>Istanbul</td>\n",
       "      <td>41.1050</td>\n",
       "      <td>29.0100</td>\n",
       "    </tr>\n",
       "    <tr>\n",
       "      <th>905</th>\n",
       "      <td>Generation_499</td>\n",
       "      <td>16</td>\n",
       "      <td>68976.705571</td>\n",
       "      <td>Rome</td>\n",
       "      <td>41.8960</td>\n",
       "      <td>12.4833</td>\n",
       "    </tr>\n",
       "    <tr>\n",
       "      <th>906</th>\n",
       "      <td>Generation_499</td>\n",
       "      <td>20</td>\n",
       "      <td>68976.705571</td>\n",
       "      <td>Munich</td>\n",
       "      <td>48.1299</td>\n",
       "      <td>11.5750</td>\n",
       "    </tr>\n",
       "    <tr>\n",
       "      <th>907</th>\n",
       "      <td>Generation_499</td>\n",
       "      <td>9</td>\n",
       "      <td>68976.705571</td>\n",
       "      <td>Paris</td>\n",
       "      <td>48.8667</td>\n",
       "      <td>2.3333</td>\n",
       "    </tr>\n",
       "    <tr>\n",
       "      <th>908</th>\n",
       "      <td>Generation_499</td>\n",
       "      <td>11</td>\n",
       "      <td>68976.705571</td>\n",
       "      <td>London</td>\n",
       "      <td>51.5000</td>\n",
       "      <td>-0.1167</td>\n",
       "    </tr>\n",
       "    <tr>\n",
       "      <th>909</th>\n",
       "      <td>Generation_499</td>\n",
       "      <td>13</td>\n",
       "      <td>68976.705571</td>\n",
       "      <td>Madrid</td>\n",
       "      <td>40.4000</td>\n",
       "      <td>-3.6834</td>\n",
       "    </tr>\n",
       "    <tr>\n",
       "      <th>910</th>\n",
       "      <td>Generation_499</td>\n",
       "      <td>18</td>\n",
       "      <td>68976.705571</td>\n",
       "      <td>Lisbon</td>\n",
       "      <td>38.7227</td>\n",
       "      <td>-9.1449</td>\n",
       "    </tr>\n",
       "    <tr>\n",
       "      <th>911</th>\n",
       "      <td>Generation_499</td>\n",
       "      <td>1</td>\n",
       "      <td>68976.705571</td>\n",
       "      <td>New York</td>\n",
       "      <td>40.6943</td>\n",
       "      <td>-73.9249</td>\n",
       "    </tr>\n",
       "    <tr>\n",
       "      <th>912</th>\n",
       "      <td>Generation_499</td>\n",
       "      <td>14</td>\n",
       "      <td>68976.705571</td>\n",
       "      <td>Toronto</td>\n",
       "      <td>43.7000</td>\n",
       "      <td>-79.4200</td>\n",
       "    </tr>\n",
       "    <tr>\n",
       "      <th>913</th>\n",
       "      <td>Generation_499</td>\n",
       "      <td>4</td>\n",
       "      <td>68976.705571</td>\n",
       "      <td>Los Angeles</td>\n",
       "      <td>34.1139</td>\n",
       "      <td>-118.4068</td>\n",
       "    </tr>\n",
       "    <tr>\n",
       "      <th>914</th>\n",
       "      <td>Generation_499</td>\n",
       "      <td>2</td>\n",
       "      <td>68976.705571</td>\n",
       "      <td>Mexico City</td>\n",
       "      <td>19.4424</td>\n",
       "      <td>-99.1310</td>\n",
       "    </tr>\n",
       "    <tr>\n",
       "      <th>915</th>\n",
       "      <td>Generation_499</td>\n",
       "      <td>5</td>\n",
       "      <td>68976.705571</td>\n",
       "      <td>Buenos Aires</td>\n",
       "      <td>-34.6025</td>\n",
       "      <td>-58.3975</td>\n",
       "    </tr>\n",
       "    <tr>\n",
       "      <th>916</th>\n",
       "      <td>Generation_499</td>\n",
       "      <td>6</td>\n",
       "      <td>68976.705571</td>\n",
       "      <td>Rio de Janeiro</td>\n",
       "      <td>-22.9250</td>\n",
       "      <td>-43.2250</td>\n",
       "    </tr>\n",
       "    <tr>\n",
       "      <th>917</th>\n",
       "      <td>Generation_499</td>\n",
       "      <td>17</td>\n",
       "      <td>68976.705571</td>\n",
       "      <td>Cape Town</td>\n",
       "      <td>-33.9200</td>\n",
       "      <td>18.4350</td>\n",
       "    </tr>\n",
       "    <tr>\n",
       "      <th>918</th>\n",
       "      <td>Generation_499</td>\n",
       "      <td>15</td>\n",
       "      <td>68976.705571</td>\n",
       "      <td>Sydney</td>\n",
       "      <td>-33.9200</td>\n",
       "      <td>151.1852</td>\n",
       "    </tr>\n",
       "    <tr>\n",
       "      <th>919</th>\n",
       "      <td>Generation_499</td>\n",
       "      <td>12</td>\n",
       "      <td>68976.705571</td>\n",
       "      <td>Bangkok</td>\n",
       "      <td>13.7500</td>\n",
       "      <td>100.5166</td>\n",
       "    </tr>\n",
       "  </tbody>\n",
       "</table>\n",
       "<p>920 rows × 6 columns</p>\n",
       "</div>"
      ],
      "text/plain": [
       "         generation  city       distance       name_city  x_coordinate  \\\n",
       "0      Generation_0    18  165367.271329          Lisbon       38.7227   \n",
       "1      Generation_0     7  165367.271329          Moscow       55.7522   \n",
       "2      Generation_0    21  165367.271329       Changping       40.2248   \n",
       "3      Generation_0    12  165367.271329         Bangkok       13.7500   \n",
       "4      Generation_0     4  165367.271329     Los Angeles       34.1139   \n",
       "5      Generation_0     1  165367.271329        New York       40.6943   \n",
       "6      Generation_0    14  165367.271329         Toronto       43.7000   \n",
       "7      Generation_0     5  165367.271329    Buenos Aires      -34.6025   \n",
       "8      Generation_0    11  165367.271329          London       51.5000   \n",
       "9      Generation_0    20  165367.271329          Munich       48.1299   \n",
       "10     Generation_0    19  165367.271329           Dubai       25.2300   \n",
       "11     Generation_0     2  165367.271329     Mexico City       19.4424   \n",
       "12     Generation_0    16  165367.271329            Rome       41.8960   \n",
       "13     Generation_0    17  165367.271329       Cape Town      -33.9200   \n",
       "14     Generation_0    15  165367.271329          Sydney      -33.9200   \n",
       "15     Generation_0    13  165367.271329          Madrid       40.4000   \n",
       "16     Generation_0     9  165367.271329           Paris       48.8667   \n",
       "17     Generation_0     0  165367.271329           Tokyo       35.6850   \n",
       "18     Generation_0     3  165367.271329           Delhi       28.6700   \n",
       "19     Generation_0    10  165367.271329           Seoul       37.5663   \n",
       "20     Generation_0     8  165367.271329        Istanbul       41.1050   \n",
       "21     Generation_0     6  165367.271329  Rio de Janeiro      -22.9250   \n",
       "22     Generation_0    18  165367.271329          Lisbon       38.7227   \n",
       "23     Generation_1     6  157172.570304  Rio de Janeiro      -22.9250   \n",
       "24     Generation_1    18  157172.570304          Lisbon       38.7227   \n",
       "25     Generation_1     8  157172.570304        Istanbul       41.1050   \n",
       "26     Generation_1     7  157172.570304          Moscow       55.7522   \n",
       "27     Generation_1     4  157172.570304     Los Angeles       34.1139   \n",
       "28     Generation_1     1  157172.570304        New York       40.6943   \n",
       "29     Generation_1    14  157172.570304         Toronto       43.7000   \n",
       "..              ...   ...            ...             ...           ...   \n",
       "890  Generation_483     4   69646.552910     Los Angeles       34.1139   \n",
       "891  Generation_483     2   69646.552910     Mexico City       19.4424   \n",
       "892  Generation_483     5   69646.552910    Buenos Aires      -34.6025   \n",
       "893  Generation_483     6   69646.552910  Rio de Janeiro      -22.9250   \n",
       "894  Generation_483    17   69646.552910       Cape Town      -33.9200   \n",
       "895  Generation_483    15   69646.552910          Sydney      -33.9200   \n",
       "896  Generation_483    12   69646.552910         Bangkok       13.7500   \n",
       "897  Generation_499    12   68976.705571         Bangkok       13.7500   \n",
       "898  Generation_499     0   68976.705571           Tokyo       35.6850   \n",
       "899  Generation_499    10   68976.705571           Seoul       37.5663   \n",
       "900  Generation_499    21   68976.705571       Changping       40.2248   \n",
       "901  Generation_499     3   68976.705571           Delhi       28.6700   \n",
       "902  Generation_499    19   68976.705571           Dubai       25.2300   \n",
       "903  Generation_499     7   68976.705571          Moscow       55.7522   \n",
       "904  Generation_499     8   68976.705571        Istanbul       41.1050   \n",
       "905  Generation_499    16   68976.705571            Rome       41.8960   \n",
       "906  Generation_499    20   68976.705571          Munich       48.1299   \n",
       "907  Generation_499     9   68976.705571           Paris       48.8667   \n",
       "908  Generation_499    11   68976.705571          London       51.5000   \n",
       "909  Generation_499    13   68976.705571          Madrid       40.4000   \n",
       "910  Generation_499    18   68976.705571          Lisbon       38.7227   \n",
       "911  Generation_499     1   68976.705571        New York       40.6943   \n",
       "912  Generation_499    14   68976.705571         Toronto       43.7000   \n",
       "913  Generation_499     4   68976.705571     Los Angeles       34.1139   \n",
       "914  Generation_499     2   68976.705571     Mexico City       19.4424   \n",
       "915  Generation_499     5   68976.705571    Buenos Aires      -34.6025   \n",
       "916  Generation_499     6   68976.705571  Rio de Janeiro      -22.9250   \n",
       "917  Generation_499    17   68976.705571       Cape Town      -33.9200   \n",
       "918  Generation_499    15   68976.705571          Sydney      -33.9200   \n",
       "919  Generation_499    12   68976.705571         Bangkok       13.7500   \n",
       "\n",
       "     y_coordinate  \n",
       "0         -9.1449  \n",
       "1         37.6155  \n",
       "2        116.1944  \n",
       "3        100.5166  \n",
       "4       -118.4068  \n",
       "5        -73.9249  \n",
       "6        -79.4200  \n",
       "7        -58.3975  \n",
       "8         -0.1167  \n",
       "9         11.5750  \n",
       "10        55.2800  \n",
       "11       -99.1310  \n",
       "12        12.4833  \n",
       "13        18.4350  \n",
       "14       151.1852  \n",
       "15        -3.6834  \n",
       "16         2.3333  \n",
       "17       139.7514  \n",
       "18        77.2300  \n",
       "19       126.9997  \n",
       "20        29.0100  \n",
       "21       -43.2250  \n",
       "22        -9.1449  \n",
       "23       -43.2250  \n",
       "24        -9.1449  \n",
       "25        29.0100  \n",
       "26        37.6155  \n",
       "27      -118.4068  \n",
       "28       -73.9249  \n",
       "29       -79.4200  \n",
       "..            ...  \n",
       "890     -118.4068  \n",
       "891      -99.1310  \n",
       "892      -58.3975  \n",
       "893      -43.2250  \n",
       "894       18.4350  \n",
       "895      151.1852  \n",
       "896      100.5166  \n",
       "897      100.5166  \n",
       "898      139.7514  \n",
       "899      126.9997  \n",
       "900      116.1944  \n",
       "901       77.2300  \n",
       "902       55.2800  \n",
       "903       37.6155  \n",
       "904       29.0100  \n",
       "905       12.4833  \n",
       "906       11.5750  \n",
       "907        2.3333  \n",
       "908       -0.1167  \n",
       "909       -3.6834  \n",
       "910       -9.1449  \n",
       "911      -73.9249  \n",
       "912      -79.4200  \n",
       "913     -118.4068  \n",
       "914      -99.1310  \n",
       "915      -58.3975  \n",
       "916      -43.2250  \n",
       "917       18.4350  \n",
       "918      151.1852  \n",
       "919      100.5166  \n",
       "\n",
       "[920 rows x 6 columns]"
      ]
     },
     "execution_count": 25,
     "metadata": {},
     "output_type": "execute_result"
    }
   ],
   "source": [
    "df"
   ]
  },
  {
   "cell_type": "markdown",
   "metadata": {},
   "source": [
    "# 7. Plotting"
   ]
  },
  {
   "cell_type": "code",
   "execution_count": 26,
   "metadata": {},
   "outputs": [
    {
     "data": {
      "application/vnd.plotly.v1+json": {
       "config": {
        "plotlyServerURL": "https://plot.ly"
       },
       "data": [
        {
         "hoverinfo": "text",
         "lat": [
          38.7227,
          55.7522,
          40.2248,
          13.75,
          34.1139,
          40.6943,
          43.7,
          -34.6025,
          51.5,
          48.1299,
          25.23,
          19.4424,
          41.896,
          -33.92,
          -33.92,
          40.4,
          48.8667,
          35.685,
          28.67,
          37.5663,
          41.105,
          -22.925,
          38.7227
         ],
         "line": {
          "color": "blue",
          "width": 1
         },
         "lon": [
          -9.1449,
          37.6155,
          116.1944,
          100.5166,
          -118.4068,
          -73.9249,
          -79.42,
          -58.3975,
          -0.1167,
          11.575,
          55.28,
          -99.131,
          12.4833,
          18.435,
          151.1852,
          -3.6834,
          2.3333,
          139.7514,
          77.23,
          126.9997,
          29.01,
          -43.225,
          -9.1449
         ],
         "marker": {
          "color": "red",
          "size": 4
         },
         "mode": "lines+markers",
         "text": [
          "Lisbon",
          "Moscow",
          "Changping",
          "Bangkok",
          "Los Angeles",
          "New York",
          "Toronto",
          "Buenos Aires",
          "London",
          "Munich",
          "Dubai",
          "Mexico City",
          "Rome",
          "Cape Town",
          "Sydney",
          "Madrid",
          "Paris",
          "Tokyo",
          "Delhi",
          "Seoul",
          "Istanbul",
          "Rio de Janeiro",
          "Lisbon"
         ],
         "type": "scattergeo"
        }
       ],
       "frames": [
        {
         "data": [
          {
           "lat": [
            38.7227,
            55.7522,
            40.2248,
            13.75,
            34.1139,
            40.6943,
            43.7,
            -34.6025,
            51.5,
            48.1299,
            25.23,
            19.4424,
            41.896,
            -33.92,
            -33.92,
            40.4,
            48.8667,
            35.685,
            28.67,
            37.5663,
            41.105,
            -22.925,
            38.7227
           ],
           "line": {
            "color": "blue",
            "width": 1
           },
           "lon": [
            -9.1449,
            37.6155,
            116.1944,
            100.5166,
            -118.4068,
            -73.9249,
            -79.42,
            -58.3975,
            -0.1167,
            11.575,
            55.28,
            -99.131,
            12.4833,
            18.435,
            151.1852,
            -3.6834,
            2.3333,
            139.7514,
            77.23,
            126.9997,
            29.01,
            -43.225,
            -9.1449
           ],
           "marker": {
            "color": "red",
            "size": 4
           },
           "mode": "lines+markers",
           "text": [
            "Lisbon",
            "Moscow",
            "Changping",
            "Bangkok",
            "Los Angeles",
            "New York",
            "Toronto",
            "Buenos Aires",
            "London",
            "Munich",
            "Dubai",
            "Mexico City",
            "Rome",
            "Cape Town",
            "Sydney",
            "Madrid",
            "Paris",
            "Tokyo",
            "Delhi",
            "Seoul",
            "Istanbul",
            "Rio de Janeiro",
            "Lisbon"
           ],
           "type": "scattergeo"
          }
         ]
        },
        {
         "data": [
          {
           "lat": [
            -22.925,
            38.7227,
            41.105,
            55.7522,
            34.1139,
            40.6943,
            43.7,
            -34.6025,
            51.5,
            48.1299,
            25.23,
            19.4424,
            41.896,
            40.4,
            -33.92,
            -33.92,
            48.8667,
            35.685,
            28.67,
            37.5663,
            40.2248,
            13.75,
            -22.925
           ],
           "line": {
            "color": "blue",
            "width": 1
           },
           "lon": [
            -43.225,
            -9.1449,
            29.01,
            37.6155,
            -118.4068,
            -73.9249,
            -79.42,
            -58.3975,
            -0.1167,
            11.575,
            55.28,
            -99.131,
            12.4833,
            -3.6834,
            151.1852,
            18.435,
            2.3333,
            139.7514,
            77.23,
            126.9997,
            116.1944,
            100.5166,
            -43.225
           ],
           "marker": {
            "color": "red",
            "size": 4
           },
           "mode": "lines+markers",
           "text": [
            "Rio de Janeiro",
            "Lisbon",
            "Istanbul",
            "Moscow",
            "Los Angeles",
            "New York",
            "Toronto",
            "Buenos Aires",
            "London",
            "Munich",
            "Dubai",
            "Mexico City",
            "Rome",
            "Madrid",
            "Sydney",
            "Cape Town",
            "Paris",
            "Tokyo",
            "Delhi",
            "Seoul",
            "Changping",
            "Bangkok",
            "Rio de Janeiro"
           ],
           "type": "scattergeo"
          }
         ]
        },
        {
         "data": [
          {
           "lat": [
            13.75,
            -22.925,
            34.1139,
            19.4424,
            48.1299,
            40.4,
            51.5,
            40.6943,
            28.67,
            25.23,
            38.7227,
            48.8667,
            41.896,
            43.7,
            35.685,
            -34.6025,
            -33.92,
            55.7522,
            41.105,
            40.2248,
            -33.92,
            37.5663,
            13.75
           ],
           "line": {
            "color": "blue",
            "width": 1
           },
           "lon": [
            100.5166,
            -43.225,
            -118.4068,
            -99.131,
            11.575,
            -3.6834,
            -0.1167,
            -73.9249,
            77.23,
            55.28,
            -9.1449,
            2.3333,
            12.4833,
            -79.42,
            139.7514,
            -58.3975,
            18.435,
            37.6155,
            29.01,
            116.1944,
            151.1852,
            126.9997,
            100.5166
           ],
           "marker": {
            "color": "red",
            "size": 4
           },
           "mode": "lines+markers",
           "text": [
            "Bangkok",
            "Rio de Janeiro",
            "Los Angeles",
            "Mexico City",
            "Munich",
            "Madrid",
            "London",
            "New York",
            "Delhi",
            "Dubai",
            "Lisbon",
            "Paris",
            "Rome",
            "Toronto",
            "Tokyo",
            "Buenos Aires",
            "Cape Town",
            "Moscow",
            "Istanbul",
            "Changping",
            "Sydney",
            "Seoul",
            "Bangkok"
           ],
           "type": "scattergeo"
          }
         ]
        },
        {
         "data": [
          {
           "lat": [
            -33.92,
            40.6943,
            48.8667,
            41.896,
            43.7,
            55.7522,
            -34.6025,
            -22.925,
            34.1139,
            19.4424,
            48.1299,
            25.23,
            38.7227,
            -33.92,
            40.4,
            51.5,
            40.2248,
            35.685,
            28.67,
            13.75,
            41.105,
            37.5663,
            -33.92
           ],
           "line": {
            "color": "blue",
            "width": 1
           },
           "lon": [
            151.1852,
            -73.9249,
            2.3333,
            12.4833,
            -79.42,
            37.6155,
            -58.3975,
            -43.225,
            -118.4068,
            -99.131,
            11.575,
            55.28,
            -9.1449,
            18.435,
            -3.6834,
            -0.1167,
            116.1944,
            139.7514,
            77.23,
            100.5166,
            29.01,
            126.9997,
            151.1852
           ],
           "marker": {
            "color": "red",
            "size": 4
           },
           "mode": "lines+markers",
           "text": [
            "Sydney",
            "New York",
            "Paris",
            "Rome",
            "Toronto",
            "Moscow",
            "Buenos Aires",
            "Rio de Janeiro",
            "Los Angeles",
            "Mexico City",
            "Munich",
            "Dubai",
            "Lisbon",
            "Cape Town",
            "Madrid",
            "London",
            "Changping",
            "Tokyo",
            "Delhi",
            "Bangkok",
            "Istanbul",
            "Seoul",
            "Sydney"
           ],
           "type": "scattergeo"
          }
         ]
        },
        {
         "data": [
          {
           "lat": [
            -33.92,
            40.6943,
            48.8667,
            41.896,
            43.7,
            55.7522,
            -34.6025,
            -22.925,
            34.1139,
            19.4424,
            48.1299,
            41.105,
            13.75,
            28.67,
            35.685,
            40.2248,
            51.5,
            40.4,
            -33.92,
            38.7227,
            25.23,
            37.5663,
            -33.92
           ],
           "line": {
            "color": "blue",
            "width": 1
           },
           "lon": [
            151.1852,
            -73.9249,
            2.3333,
            12.4833,
            -79.42,
            37.6155,
            -58.3975,
            -43.225,
            -118.4068,
            -99.131,
            11.575,
            29.01,
            100.5166,
            77.23,
            139.7514,
            116.1944,
            -0.1167,
            -3.6834,
            18.435,
            -9.1449,
            55.28,
            126.9997,
            151.1852
           ],
           "marker": {
            "color": "red",
            "size": 4
           },
           "mode": "lines+markers",
           "text": [
            "Sydney",
            "New York",
            "Paris",
            "Rome",
            "Toronto",
            "Moscow",
            "Buenos Aires",
            "Rio de Janeiro",
            "Los Angeles",
            "Mexico City",
            "Munich",
            "Istanbul",
            "Bangkok",
            "Delhi",
            "Tokyo",
            "Changping",
            "London",
            "Madrid",
            "Cape Town",
            "Lisbon",
            "Dubai",
            "Seoul",
            "Sydney"
           ],
           "type": "scattergeo"
          }
         ]
        },
        {
         "data": [
          {
           "lat": [
            13.75,
            -22.925,
            34.1139,
            19.4424,
            48.1299,
            40.4,
            51.5,
            40.6943,
            43.7,
            35.685,
            -34.6025,
            -33.92,
            25.23,
            28.67,
            41.896,
            48.8667,
            38.7227,
            55.7522,
            41.105,
            40.2248,
            -33.92,
            37.5663,
            13.75
           ],
           "line": {
            "color": "blue",
            "width": 1
           },
           "lon": [
            100.5166,
            -43.225,
            -118.4068,
            -99.131,
            11.575,
            -3.6834,
            -0.1167,
            -73.9249,
            -79.42,
            139.7514,
            -58.3975,
            18.435,
            55.28,
            77.23,
            12.4833,
            2.3333,
            -9.1449,
            37.6155,
            29.01,
            116.1944,
            151.1852,
            126.9997,
            100.5166
           ],
           "marker": {
            "color": "red",
            "size": 4
           },
           "mode": "lines+markers",
           "text": [
            "Bangkok",
            "Rio de Janeiro",
            "Los Angeles",
            "Mexico City",
            "Munich",
            "Madrid",
            "London",
            "New York",
            "Toronto",
            "Tokyo",
            "Buenos Aires",
            "Cape Town",
            "Dubai",
            "Delhi",
            "Rome",
            "Paris",
            "Lisbon",
            "Moscow",
            "Istanbul",
            "Changping",
            "Sydney",
            "Seoul",
            "Bangkok"
           ],
           "type": "scattergeo"
          }
         ]
        },
        {
         "data": [
          {
           "lat": [
            48.8667,
            41.896,
            43.7,
            55.7522,
            25.23,
            38.7227,
            -34.6025,
            -22.925,
            34.1139,
            19.4424,
            48.1299,
            41.105,
            13.75,
            28.67,
            -33.92,
            40.4,
            51.5,
            40.2248,
            35.685,
            37.5663,
            -33.92,
            40.6943,
            48.8667
           ],
           "line": {
            "color": "blue",
            "width": 1
           },
           "lon": [
            2.3333,
            12.4833,
            -79.42,
            37.6155,
            55.28,
            -9.1449,
            -58.3975,
            -43.225,
            -118.4068,
            -99.131,
            11.575,
            29.01,
            100.5166,
            77.23,
            18.435,
            -3.6834,
            -0.1167,
            116.1944,
            139.7514,
            126.9997,
            151.1852,
            -73.9249,
            2.3333
           ],
           "marker": {
            "color": "red",
            "size": 4
           },
           "mode": "lines+markers",
           "text": [
            "Paris",
            "Rome",
            "Toronto",
            "Moscow",
            "Dubai",
            "Lisbon",
            "Buenos Aires",
            "Rio de Janeiro",
            "Los Angeles",
            "Mexico City",
            "Munich",
            "Istanbul",
            "Bangkok",
            "Delhi",
            "Cape Town",
            "Madrid",
            "London",
            "Changping",
            "Tokyo",
            "Seoul",
            "Sydney",
            "New York",
            "Paris"
           ],
           "type": "scattergeo"
          }
         ]
        },
        {
         "data": [
          {
           "lat": [
            19.4424,
            40.6943,
            43.7,
            -34.6025,
            -33.92,
            25.23,
            48.8667,
            41.896,
            40.4,
            51.5,
            40.2248,
            35.685,
            28.67,
            13.75,
            41.105,
            48.1299,
            38.7227,
            55.7522,
            -33.92,
            37.5663,
            -22.925,
            34.1139,
            19.4424
           ],
           "line": {
            "color": "blue",
            "width": 1
           },
           "lon": [
            -99.131,
            -73.9249,
            -79.42,
            -58.3975,
            18.435,
            55.28,
            2.3333,
            12.4833,
            -3.6834,
            -0.1167,
            116.1944,
            139.7514,
            77.23,
            100.5166,
            29.01,
            11.575,
            -9.1449,
            37.6155,
            151.1852,
            126.9997,
            -43.225,
            -118.4068,
            -99.131
           ],
           "marker": {
            "color": "red",
            "size": 4
           },
           "mode": "lines+markers",
           "text": [
            "Mexico City",
            "New York",
            "Toronto",
            "Buenos Aires",
            "Cape Town",
            "Dubai",
            "Paris",
            "Rome",
            "Madrid",
            "London",
            "Changping",
            "Tokyo",
            "Delhi",
            "Bangkok",
            "Istanbul",
            "Munich",
            "Lisbon",
            "Moscow",
            "Sydney",
            "Seoul",
            "Rio de Janeiro",
            "Los Angeles",
            "Mexico City"
           ],
           "type": "scattergeo"
          }
         ]
        },
        {
         "data": [
          {
           "lat": [
            19.4424,
            40.6943,
            43.7,
            -34.6025,
            -33.92,
            25.23,
            48.8667,
            41.896,
            37.5663,
            -33.92,
            55.7522,
            38.7227,
            48.1299,
            41.105,
            13.75,
            28.67,
            35.685,
            40.2248,
            51.5,
            40.4,
            -22.925,
            34.1139,
            19.4424
           ],
           "line": {
            "color": "blue",
            "width": 1
           },
           "lon": [
            -99.131,
            -73.9249,
            -79.42,
            -58.3975,
            18.435,
            55.28,
            2.3333,
            12.4833,
            126.9997,
            151.1852,
            37.6155,
            -9.1449,
            11.575,
            29.01,
            100.5166,
            77.23,
            139.7514,
            116.1944,
            -0.1167,
            -3.6834,
            -43.225,
            -118.4068,
            -99.131
           ],
           "marker": {
            "color": "red",
            "size": 4
           },
           "mode": "lines+markers",
           "text": [
            "Mexico City",
            "New York",
            "Toronto",
            "Buenos Aires",
            "Cape Town",
            "Dubai",
            "Paris",
            "Rome",
            "Seoul",
            "Sydney",
            "Moscow",
            "Lisbon",
            "Munich",
            "Istanbul",
            "Bangkok",
            "Delhi",
            "Tokyo",
            "Changping",
            "London",
            "Madrid",
            "Rio de Janeiro",
            "Los Angeles",
            "Mexico City"
           ],
           "type": "scattergeo"
          }
         ]
        },
        {
         "data": [
          {
           "lat": [
            19.4424,
            40.6943,
            43.7,
            -34.6025,
            -33.92,
            25.23,
            48.8667,
            41.896,
            40.2248,
            35.685,
            28.67,
            13.75,
            41.105,
            48.1299,
            38.7227,
            55.7522,
            -33.92,
            37.5663,
            51.5,
            40.4,
            -22.925,
            34.1139,
            19.4424
           ],
           "line": {
            "color": "blue",
            "width": 1
           },
           "lon": [
            -99.131,
            -73.9249,
            -79.42,
            -58.3975,
            18.435,
            55.28,
            2.3333,
            12.4833,
            116.1944,
            139.7514,
            77.23,
            100.5166,
            29.01,
            11.575,
            -9.1449,
            37.6155,
            151.1852,
            126.9997,
            -0.1167,
            -3.6834,
            -43.225,
            -118.4068,
            -99.131
           ],
           "marker": {
            "color": "red",
            "size": 4
           },
           "mode": "lines+markers",
           "text": [
            "Mexico City",
            "New York",
            "Toronto",
            "Buenos Aires",
            "Cape Town",
            "Dubai",
            "Paris",
            "Rome",
            "Changping",
            "Tokyo",
            "Delhi",
            "Bangkok",
            "Istanbul",
            "Munich",
            "Lisbon",
            "Moscow",
            "Sydney",
            "Seoul",
            "London",
            "Madrid",
            "Rio de Janeiro",
            "Los Angeles",
            "Mexico City"
           ],
           "type": "scattergeo"
          }
         ]
        },
        {
         "data": [
          {
           "lat": [
            19.4424,
            40.6943,
            43.7,
            -34.6025,
            -33.92,
            25.23,
            48.8667,
            41.896,
            40.2248,
            35.685,
            28.67,
            13.75,
            41.105,
            48.1299,
            38.7227,
            55.7522,
            40.4,
            51.5,
            37.5663,
            -33.92,
            -22.925,
            34.1139,
            19.4424
           ],
           "line": {
            "color": "blue",
            "width": 1
           },
           "lon": [
            -99.131,
            -73.9249,
            -79.42,
            -58.3975,
            18.435,
            55.28,
            2.3333,
            12.4833,
            116.1944,
            139.7514,
            77.23,
            100.5166,
            29.01,
            11.575,
            -9.1449,
            37.6155,
            -3.6834,
            -0.1167,
            126.9997,
            151.1852,
            -43.225,
            -118.4068,
            -99.131
           ],
           "marker": {
            "color": "red",
            "size": 4
           },
           "mode": "lines+markers",
           "text": [
            "Mexico City",
            "New York",
            "Toronto",
            "Buenos Aires",
            "Cape Town",
            "Dubai",
            "Paris",
            "Rome",
            "Changping",
            "Tokyo",
            "Delhi",
            "Bangkok",
            "Istanbul",
            "Munich",
            "Lisbon",
            "Moscow",
            "Madrid",
            "London",
            "Seoul",
            "Sydney",
            "Rio de Janeiro",
            "Los Angeles",
            "Mexico City"
           ],
           "type": "scattergeo"
          }
         ]
        },
        {
         "data": [
          {
           "lat": [
            19.4424,
            40.6943,
            43.7,
            -34.6025,
            -33.92,
            25.23,
            48.8667,
            41.896,
            40.2248,
            35.685,
            28.67,
            13.75,
            41.105,
            48.1299,
            38.7227,
            51.5,
            40.4,
            55.7522,
            37.5663,
            -33.92,
            -22.925,
            34.1139,
            19.4424
           ],
           "line": {
            "color": "blue",
            "width": 1
           },
           "lon": [
            -99.131,
            -73.9249,
            -79.42,
            -58.3975,
            18.435,
            55.28,
            2.3333,
            12.4833,
            116.1944,
            139.7514,
            77.23,
            100.5166,
            29.01,
            11.575,
            -9.1449,
            -0.1167,
            -3.6834,
            37.6155,
            126.9997,
            151.1852,
            -43.225,
            -118.4068,
            -99.131
           ],
           "marker": {
            "color": "red",
            "size": 4
           },
           "mode": "lines+markers",
           "text": [
            "Mexico City",
            "New York",
            "Toronto",
            "Buenos Aires",
            "Cape Town",
            "Dubai",
            "Paris",
            "Rome",
            "Changping",
            "Tokyo",
            "Delhi",
            "Bangkok",
            "Istanbul",
            "Munich",
            "Lisbon",
            "London",
            "Madrid",
            "Moscow",
            "Seoul",
            "Sydney",
            "Rio de Janeiro",
            "Los Angeles",
            "Mexico City"
           ],
           "type": "scattergeo"
          }
         ]
        },
        {
         "data": [
          {
           "lat": [
            19.4424,
            40.6943,
            43.7,
            -34.6025,
            -33.92,
            25.23,
            48.8667,
            41.896,
            40.2248,
            35.685,
            37.5663,
            13.75,
            41.105,
            48.1299,
            38.7227,
            51.5,
            40.4,
            55.7522,
            28.67,
            -33.92,
            -22.925,
            34.1139,
            19.4424
           ],
           "line": {
            "color": "blue",
            "width": 1
           },
           "lon": [
            -99.131,
            -73.9249,
            -79.42,
            -58.3975,
            18.435,
            55.28,
            2.3333,
            12.4833,
            116.1944,
            139.7514,
            126.9997,
            100.5166,
            29.01,
            11.575,
            -9.1449,
            -0.1167,
            -3.6834,
            37.6155,
            77.23,
            151.1852,
            -43.225,
            -118.4068,
            -99.131
           ],
           "marker": {
            "color": "red",
            "size": 4
           },
           "mode": "lines+markers",
           "text": [
            "Mexico City",
            "New York",
            "Toronto",
            "Buenos Aires",
            "Cape Town",
            "Dubai",
            "Paris",
            "Rome",
            "Changping",
            "Tokyo",
            "Seoul",
            "Bangkok",
            "Istanbul",
            "Munich",
            "Lisbon",
            "London",
            "Madrid",
            "Moscow",
            "Delhi",
            "Sydney",
            "Rio de Janeiro",
            "Los Angeles",
            "Mexico City"
           ],
           "type": "scattergeo"
          }
         ]
        },
        {
         "data": [
          {
           "lat": [
            19.4424,
            40.6943,
            43.7,
            -34.6025,
            -33.92,
            25.23,
            48.8667,
            41.896,
            40.2248,
            28.67,
            55.7522,
            40.4,
            51.5,
            38.7227,
            48.1299,
            41.105,
            13.75,
            37.5663,
            35.685,
            -33.92,
            -22.925,
            34.1139,
            19.4424
           ],
           "line": {
            "color": "blue",
            "width": 1
           },
           "lon": [
            -99.131,
            -73.9249,
            -79.42,
            -58.3975,
            18.435,
            55.28,
            2.3333,
            12.4833,
            116.1944,
            77.23,
            37.6155,
            -3.6834,
            -0.1167,
            -9.1449,
            11.575,
            29.01,
            100.5166,
            126.9997,
            139.7514,
            151.1852,
            -43.225,
            -118.4068,
            -99.131
           ],
           "marker": {
            "color": "red",
            "size": 4
           },
           "mode": "lines+markers",
           "text": [
            "Mexico City",
            "New York",
            "Toronto",
            "Buenos Aires",
            "Cape Town",
            "Dubai",
            "Paris",
            "Rome",
            "Changping",
            "Delhi",
            "Moscow",
            "Madrid",
            "London",
            "Lisbon",
            "Munich",
            "Istanbul",
            "Bangkok",
            "Seoul",
            "Tokyo",
            "Sydney",
            "Rio de Janeiro",
            "Los Angeles",
            "Mexico City"
           ],
           "type": "scattergeo"
          }
         ]
        },
        {
         "data": [
          {
           "lat": [
            19.4424,
            40.6943,
            43.7,
            -33.92,
            28.67,
            55.7522,
            40.4,
            51.5,
            38.7227,
            48.1299,
            41.105,
            13.75,
            37.5663,
            35.685,
            40.2248,
            41.896,
            48.8667,
            25.23,
            -33.92,
            -34.6025,
            -22.925,
            34.1139,
            19.4424
           ],
           "line": {
            "color": "blue",
            "width": 1
           },
           "lon": [
            -99.131,
            -73.9249,
            -79.42,
            151.1852,
            77.23,
            37.6155,
            -3.6834,
            -0.1167,
            -9.1449,
            11.575,
            29.01,
            100.5166,
            126.9997,
            139.7514,
            116.1944,
            12.4833,
            2.3333,
            55.28,
            18.435,
            -58.3975,
            -43.225,
            -118.4068,
            -99.131
           ],
           "marker": {
            "color": "red",
            "size": 4
           },
           "mode": "lines+markers",
           "text": [
            "Mexico City",
            "New York",
            "Toronto",
            "Sydney",
            "Delhi",
            "Moscow",
            "Madrid",
            "London",
            "Lisbon",
            "Munich",
            "Istanbul",
            "Bangkok",
            "Seoul",
            "Tokyo",
            "Changping",
            "Rome",
            "Paris",
            "Dubai",
            "Cape Town",
            "Buenos Aires",
            "Rio de Janeiro",
            "Los Angeles",
            "Mexico City"
           ],
           "type": "scattergeo"
          }
         ]
        },
        {
         "data": [
          {
           "lat": [
            43.7,
            -34.6025,
            -33.92,
            25.23,
            13.75,
            37.5663,
            35.685,
            40.2248,
            41.896,
            38.7227,
            51.5,
            41.105,
            48.1299,
            48.8667,
            40.4,
            55.7522,
            28.67,
            -33.92,
            -22.925,
            34.1139,
            19.4424,
            40.6943,
            43.7
           ],
           "line": {
            "color": "blue",
            "width": 1
           },
           "lon": [
            -79.42,
            -58.3975,
            18.435,
            55.28,
            100.5166,
            126.9997,
            139.7514,
            116.1944,
            12.4833,
            -9.1449,
            -0.1167,
            29.01,
            11.575,
            2.3333,
            -3.6834,
            37.6155,
            77.23,
            151.1852,
            -43.225,
            -118.4068,
            -99.131,
            -73.9249,
            -79.42
           ],
           "marker": {
            "color": "red",
            "size": 4
           },
           "mode": "lines+markers",
           "text": [
            "Toronto",
            "Buenos Aires",
            "Cape Town",
            "Dubai",
            "Bangkok",
            "Seoul",
            "Tokyo",
            "Changping",
            "Rome",
            "Lisbon",
            "London",
            "Istanbul",
            "Munich",
            "Paris",
            "Madrid",
            "Moscow",
            "Delhi",
            "Sydney",
            "Rio de Janeiro",
            "Los Angeles",
            "Mexico City",
            "New York",
            "Toronto"
           ],
           "type": "scattergeo"
          }
         ]
        },
        {
         "data": [
          {
           "lat": [
            40.6943,
            43.7,
            -33.92,
            28.67,
            40.2248,
            35.685,
            37.5663,
            13.75,
            41.105,
            48.1299,
            38.7227,
            51.5,
            40.4,
            55.7522,
            48.8667,
            41.896,
            25.23,
            -33.92,
            -34.6025,
            -22.925,
            34.1139,
            19.4424,
            40.6943
           ],
           "line": {
            "color": "blue",
            "width": 1
           },
           "lon": [
            -73.9249,
            -79.42,
            151.1852,
            77.23,
            116.1944,
            139.7514,
            126.9997,
            100.5166,
            29.01,
            11.575,
            -9.1449,
            -0.1167,
            -3.6834,
            37.6155,
            2.3333,
            12.4833,
            55.28,
            18.435,
            -58.3975,
            -43.225,
            -118.4068,
            -99.131,
            -73.9249
           ],
           "marker": {
            "color": "red",
            "size": 4
           },
           "mode": "lines+markers",
           "text": [
            "New York",
            "Toronto",
            "Sydney",
            "Delhi",
            "Changping",
            "Tokyo",
            "Seoul",
            "Bangkok",
            "Istanbul",
            "Munich",
            "Lisbon",
            "London",
            "Madrid",
            "Moscow",
            "Paris",
            "Rome",
            "Dubai",
            "Cape Town",
            "Buenos Aires",
            "Rio de Janeiro",
            "Los Angeles",
            "Mexico City",
            "New York"
           ],
           "type": "scattergeo"
          }
         ]
        },
        {
         "data": [
          {
           "lat": [
            40.6943,
            43.7,
            -33.92,
            37.5663,
            35.685,
            40.2248,
            28.67,
            13.75,
            41.105,
            48.1299,
            38.7227,
            51.5,
            40.4,
            55.7522,
            48.8667,
            41.896,
            25.23,
            -33.92,
            -34.6025,
            -22.925,
            34.1139,
            19.4424,
            40.6943
           ],
           "line": {
            "color": "blue",
            "width": 1
           },
           "lon": [
            -73.9249,
            -79.42,
            151.1852,
            126.9997,
            139.7514,
            116.1944,
            77.23,
            100.5166,
            29.01,
            11.575,
            -9.1449,
            -0.1167,
            -3.6834,
            37.6155,
            2.3333,
            12.4833,
            55.28,
            18.435,
            -58.3975,
            -43.225,
            -118.4068,
            -99.131,
            -73.9249
           ],
           "marker": {
            "color": "red",
            "size": 4
           },
           "mode": "lines+markers",
           "text": [
            "New York",
            "Toronto",
            "Sydney",
            "Seoul",
            "Tokyo",
            "Changping",
            "Delhi",
            "Bangkok",
            "Istanbul",
            "Munich",
            "Lisbon",
            "London",
            "Madrid",
            "Moscow",
            "Paris",
            "Rome",
            "Dubai",
            "Cape Town",
            "Buenos Aires",
            "Rio de Janeiro",
            "Los Angeles",
            "Mexico City",
            "New York"
           ],
           "type": "scattergeo"
          }
         ]
        },
        {
         "data": [
          {
           "lat": [
            40.6943,
            43.7,
            28.67,
            40.2248,
            37.5663,
            35.685,
            -33.92,
            13.75,
            41.105,
            48.1299,
            38.7227,
            51.5,
            40.4,
            55.7522,
            48.8667,
            41.896,
            25.23,
            -33.92,
            -34.6025,
            -22.925,
            34.1139,
            19.4424,
            40.6943
           ],
           "line": {
            "color": "blue",
            "width": 1
           },
           "lon": [
            -73.9249,
            -79.42,
            77.23,
            116.1944,
            126.9997,
            139.7514,
            151.1852,
            100.5166,
            29.01,
            11.575,
            -9.1449,
            -0.1167,
            -3.6834,
            37.6155,
            2.3333,
            12.4833,
            55.28,
            18.435,
            -58.3975,
            -43.225,
            -118.4068,
            -99.131,
            -73.9249
           ],
           "marker": {
            "color": "red",
            "size": 4
           },
           "mode": "lines+markers",
           "text": [
            "New York",
            "Toronto",
            "Delhi",
            "Changping",
            "Seoul",
            "Tokyo",
            "Sydney",
            "Bangkok",
            "Istanbul",
            "Munich",
            "Lisbon",
            "London",
            "Madrid",
            "Moscow",
            "Paris",
            "Rome",
            "Dubai",
            "Cape Town",
            "Buenos Aires",
            "Rio de Janeiro",
            "Los Angeles",
            "Mexico City",
            "New York"
           ],
           "type": "scattergeo"
          }
         ]
        },
        {
         "data": [
          {
           "lat": [
            40.6943,
            43.7,
            13.75,
            -33.92,
            35.685,
            37.5663,
            40.2248,
            28.67,
            41.105,
            48.1299,
            38.7227,
            51.5,
            40.4,
            55.7522,
            48.8667,
            41.896,
            25.23,
            -33.92,
            -34.6025,
            -22.925,
            34.1139,
            19.4424,
            40.6943
           ],
           "line": {
            "color": "blue",
            "width": 1
           },
           "lon": [
            -73.9249,
            -79.42,
            100.5166,
            151.1852,
            139.7514,
            126.9997,
            116.1944,
            77.23,
            29.01,
            11.575,
            -9.1449,
            -0.1167,
            -3.6834,
            37.6155,
            2.3333,
            12.4833,
            55.28,
            18.435,
            -58.3975,
            -43.225,
            -118.4068,
            -99.131,
            -73.9249
           ],
           "marker": {
            "color": "red",
            "size": 4
           },
           "mode": "lines+markers",
           "text": [
            "New York",
            "Toronto",
            "Bangkok",
            "Sydney",
            "Tokyo",
            "Seoul",
            "Changping",
            "Delhi",
            "Istanbul",
            "Munich",
            "Lisbon",
            "London",
            "Madrid",
            "Moscow",
            "Paris",
            "Rome",
            "Dubai",
            "Cape Town",
            "Buenos Aires",
            "Rio de Janeiro",
            "Los Angeles",
            "Mexico City",
            "New York"
           ],
           "type": "scattergeo"
          }
         ]
        },
        {
         "data": [
          {
           "lat": [
            40.6943,
            43.7,
            13.75,
            -33.92,
            35.685,
            37.5663,
            40.2248,
            28.67,
            41.105,
            48.1299,
            38.7227,
            51.5,
            40.4,
            41.896,
            48.8667,
            55.7522,
            25.23,
            -33.92,
            -34.6025,
            -22.925,
            34.1139,
            19.4424,
            40.6943
           ],
           "line": {
            "color": "blue",
            "width": 1
           },
           "lon": [
            -73.9249,
            -79.42,
            100.5166,
            151.1852,
            139.7514,
            126.9997,
            116.1944,
            77.23,
            29.01,
            11.575,
            -9.1449,
            -0.1167,
            -3.6834,
            12.4833,
            2.3333,
            37.6155,
            55.28,
            18.435,
            -58.3975,
            -43.225,
            -118.4068,
            -99.131,
            -73.9249
           ],
           "marker": {
            "color": "red",
            "size": 4
           },
           "mode": "lines+markers",
           "text": [
            "New York",
            "Toronto",
            "Bangkok",
            "Sydney",
            "Tokyo",
            "Seoul",
            "Changping",
            "Delhi",
            "Istanbul",
            "Munich",
            "Lisbon",
            "London",
            "Madrid",
            "Rome",
            "Paris",
            "Moscow",
            "Dubai",
            "Cape Town",
            "Buenos Aires",
            "Rio de Janeiro",
            "Los Angeles",
            "Mexico City",
            "New York"
           ],
           "type": "scattergeo"
          }
         ]
        },
        {
         "data": [
          {
           "lat": [
            40.6943,
            43.7,
            13.75,
            -33.92,
            35.685,
            37.5663,
            40.2248,
            28.67,
            41.105,
            48.1299,
            38.7227,
            51.5,
            40.4,
            41.896,
            48.8667,
            55.7522,
            25.23,
            -33.92,
            -22.925,
            -34.6025,
            34.1139,
            19.4424,
            40.6943
           ],
           "line": {
            "color": "blue",
            "width": 1
           },
           "lon": [
            -73.9249,
            -79.42,
            100.5166,
            151.1852,
            139.7514,
            126.9997,
            116.1944,
            77.23,
            29.01,
            11.575,
            -9.1449,
            -0.1167,
            -3.6834,
            12.4833,
            2.3333,
            37.6155,
            55.28,
            18.435,
            -43.225,
            -58.3975,
            -118.4068,
            -99.131,
            -73.9249
           ],
           "marker": {
            "color": "red",
            "size": 4
           },
           "mode": "lines+markers",
           "text": [
            "New York",
            "Toronto",
            "Bangkok",
            "Sydney",
            "Tokyo",
            "Seoul",
            "Changping",
            "Delhi",
            "Istanbul",
            "Munich",
            "Lisbon",
            "London",
            "Madrid",
            "Rome",
            "Paris",
            "Moscow",
            "Dubai",
            "Cape Town",
            "Rio de Janeiro",
            "Buenos Aires",
            "Los Angeles",
            "Mexico City",
            "New York"
           ],
           "type": "scattergeo"
          }
         ]
        },
        {
         "data": [
          {
           "lat": [
            40.6943,
            43.7,
            37.5663,
            35.685,
            -33.92,
            13.75,
            40.2248,
            28.67,
            41.105,
            48.1299,
            38.7227,
            51.5,
            40.4,
            41.896,
            48.8667,
            55.7522,
            25.23,
            -33.92,
            -22.925,
            -34.6025,
            34.1139,
            19.4424,
            40.6943
           ],
           "line": {
            "color": "blue",
            "width": 1
           },
           "lon": [
            -73.9249,
            -79.42,
            126.9997,
            139.7514,
            151.1852,
            100.5166,
            116.1944,
            77.23,
            29.01,
            11.575,
            -9.1449,
            -0.1167,
            -3.6834,
            12.4833,
            2.3333,
            37.6155,
            55.28,
            18.435,
            -43.225,
            -58.3975,
            -118.4068,
            -99.131,
            -73.9249
           ],
           "marker": {
            "color": "red",
            "size": 4
           },
           "mode": "lines+markers",
           "text": [
            "New York",
            "Toronto",
            "Seoul",
            "Tokyo",
            "Sydney",
            "Bangkok",
            "Changping",
            "Delhi",
            "Istanbul",
            "Munich",
            "Lisbon",
            "London",
            "Madrid",
            "Rome",
            "Paris",
            "Moscow",
            "Dubai",
            "Cape Town",
            "Rio de Janeiro",
            "Buenos Aires",
            "Los Angeles",
            "Mexico City",
            "New York"
           ],
           "type": "scattergeo"
          }
         ]
        },
        {
         "data": [
          {
           "lat": [
            40.6943,
            43.7,
            -33.92,
            13.75,
            35.685,
            37.5663,
            40.2248,
            28.67,
            41.105,
            48.1299,
            38.7227,
            51.5,
            40.4,
            41.896,
            48.8667,
            55.7522,
            25.23,
            -33.92,
            -22.925,
            -34.6025,
            34.1139,
            19.4424,
            40.6943
           ],
           "line": {
            "color": "blue",
            "width": 1
           },
           "lon": [
            -73.9249,
            -79.42,
            151.1852,
            100.5166,
            139.7514,
            126.9997,
            116.1944,
            77.23,
            29.01,
            11.575,
            -9.1449,
            -0.1167,
            -3.6834,
            12.4833,
            2.3333,
            37.6155,
            55.28,
            18.435,
            -43.225,
            -58.3975,
            -118.4068,
            -99.131,
            -73.9249
           ],
           "marker": {
            "color": "red",
            "size": 4
           },
           "mode": "lines+markers",
           "text": [
            "New York",
            "Toronto",
            "Sydney",
            "Bangkok",
            "Tokyo",
            "Seoul",
            "Changping",
            "Delhi",
            "Istanbul",
            "Munich",
            "Lisbon",
            "London",
            "Madrid",
            "Rome",
            "Paris",
            "Moscow",
            "Dubai",
            "Cape Town",
            "Rio de Janeiro",
            "Buenos Aires",
            "Los Angeles",
            "Mexico City",
            "New York"
           ],
           "type": "scattergeo"
          }
         ]
        },
        {
         "data": [
          {
           "lat": [
            40.6943,
            43.7,
            -33.92,
            13.75,
            35.685,
            37.5663,
            40.2248,
            28.67,
            41.105,
            48.1299,
            38.7227,
            51.5,
            40.4,
            48.8667,
            41.896,
            55.7522,
            25.23,
            -33.92,
            -22.925,
            -34.6025,
            34.1139,
            19.4424,
            40.6943
           ],
           "line": {
            "color": "blue",
            "width": 1
           },
           "lon": [
            -73.9249,
            -79.42,
            151.1852,
            100.5166,
            139.7514,
            126.9997,
            116.1944,
            77.23,
            29.01,
            11.575,
            -9.1449,
            -0.1167,
            -3.6834,
            2.3333,
            12.4833,
            37.6155,
            55.28,
            18.435,
            -43.225,
            -58.3975,
            -118.4068,
            -99.131,
            -73.9249
           ],
           "marker": {
            "color": "red",
            "size": 4
           },
           "mode": "lines+markers",
           "text": [
            "New York",
            "Toronto",
            "Sydney",
            "Bangkok",
            "Tokyo",
            "Seoul",
            "Changping",
            "Delhi",
            "Istanbul",
            "Munich",
            "Lisbon",
            "London",
            "Madrid",
            "Paris",
            "Rome",
            "Moscow",
            "Dubai",
            "Cape Town",
            "Rio de Janeiro",
            "Buenos Aires",
            "Los Angeles",
            "Mexico City",
            "New York"
           ],
           "type": "scattergeo"
          }
         ]
        },
        {
         "data": [
          {
           "lat": [
            40.6943,
            43.7,
            -33.92,
            13.75,
            35.685,
            37.5663,
            40.2248,
            28.67,
            41.105,
            48.1299,
            48.8667,
            40.4,
            51.5,
            38.7227,
            41.896,
            55.7522,
            25.23,
            -33.92,
            -22.925,
            -34.6025,
            34.1139,
            19.4424,
            40.6943
           ],
           "line": {
            "color": "blue",
            "width": 1
           },
           "lon": [
            -73.9249,
            -79.42,
            151.1852,
            100.5166,
            139.7514,
            126.9997,
            116.1944,
            77.23,
            29.01,
            11.575,
            2.3333,
            -3.6834,
            -0.1167,
            -9.1449,
            12.4833,
            37.6155,
            55.28,
            18.435,
            -43.225,
            -58.3975,
            -118.4068,
            -99.131,
            -73.9249
           ],
           "marker": {
            "color": "red",
            "size": 4
           },
           "mode": "lines+markers",
           "text": [
            "New York",
            "Toronto",
            "Sydney",
            "Bangkok",
            "Tokyo",
            "Seoul",
            "Changping",
            "Delhi",
            "Istanbul",
            "Munich",
            "Paris",
            "Madrid",
            "London",
            "Lisbon",
            "Rome",
            "Moscow",
            "Dubai",
            "Cape Town",
            "Rio de Janeiro",
            "Buenos Aires",
            "Los Angeles",
            "Mexico City",
            "New York"
           ],
           "type": "scattergeo"
          }
         ]
        },
        {
         "data": [
          {
           "lat": [
            40.6943,
            43.7,
            -34.6025,
            -22.925,
            -33.92,
            25.23,
            55.7522,
            41.896,
            48.8667,
            40.4,
            51.5,
            38.7227,
            48.1299,
            41.105,
            28.67,
            40.2248,
            37.5663,
            35.685,
            13.75,
            -33.92,
            34.1139,
            19.4424,
            40.6943
           ],
           "line": {
            "color": "blue",
            "width": 1
           },
           "lon": [
            -73.9249,
            -79.42,
            -58.3975,
            -43.225,
            18.435,
            55.28,
            37.6155,
            12.4833,
            2.3333,
            -3.6834,
            -0.1167,
            -9.1449,
            11.575,
            29.01,
            77.23,
            116.1944,
            126.9997,
            139.7514,
            100.5166,
            151.1852,
            -118.4068,
            -99.131,
            -73.9249
           ],
           "marker": {
            "color": "red",
            "size": 4
           },
           "mode": "lines+markers",
           "text": [
            "New York",
            "Toronto",
            "Buenos Aires",
            "Rio de Janeiro",
            "Cape Town",
            "Dubai",
            "Moscow",
            "Rome",
            "Paris",
            "Madrid",
            "London",
            "Lisbon",
            "Munich",
            "Istanbul",
            "Delhi",
            "Changping",
            "Seoul",
            "Tokyo",
            "Bangkok",
            "Sydney",
            "Los Angeles",
            "Mexico City",
            "New York"
           ],
           "type": "scattergeo"
          }
         ]
        },
        {
         "data": [
          {
           "lat": [
            40.6943,
            43.7,
            -34.6025,
            -22.925,
            -33.92,
            25.23,
            55.7522,
            41.896,
            48.8667,
            51.5,
            40.4,
            38.7227,
            48.1299,
            41.105,
            28.67,
            40.2248,
            37.5663,
            35.685,
            13.75,
            -33.92,
            34.1139,
            19.4424,
            40.6943
           ],
           "line": {
            "color": "blue",
            "width": 1
           },
           "lon": [
            -73.9249,
            -79.42,
            -58.3975,
            -43.225,
            18.435,
            55.28,
            37.6155,
            12.4833,
            2.3333,
            -0.1167,
            -3.6834,
            -9.1449,
            11.575,
            29.01,
            77.23,
            116.1944,
            126.9997,
            139.7514,
            100.5166,
            151.1852,
            -118.4068,
            -99.131,
            -73.9249
           ],
           "marker": {
            "color": "red",
            "size": 4
           },
           "mode": "lines+markers",
           "text": [
            "New York",
            "Toronto",
            "Buenos Aires",
            "Rio de Janeiro",
            "Cape Town",
            "Dubai",
            "Moscow",
            "Rome",
            "Paris",
            "London",
            "Madrid",
            "Lisbon",
            "Munich",
            "Istanbul",
            "Delhi",
            "Changping",
            "Seoul",
            "Tokyo",
            "Bangkok",
            "Sydney",
            "Los Angeles",
            "Mexico City",
            "New York"
           ],
           "type": "scattergeo"
          }
         ]
        },
        {
         "data": [
          {
           "lat": [
            40.6943,
            43.7,
            -34.6025,
            -22.925,
            -33.92,
            25.23,
            55.7522,
            48.1299,
            38.7227,
            40.4,
            51.5,
            48.8667,
            41.896,
            41.105,
            28.67,
            40.2248,
            37.5663,
            35.685,
            13.75,
            -33.92,
            34.1139,
            19.4424,
            40.6943
           ],
           "line": {
            "color": "blue",
            "width": 1
           },
           "lon": [
            -73.9249,
            -79.42,
            -58.3975,
            -43.225,
            18.435,
            55.28,
            37.6155,
            11.575,
            -9.1449,
            -3.6834,
            -0.1167,
            2.3333,
            12.4833,
            29.01,
            77.23,
            116.1944,
            126.9997,
            139.7514,
            100.5166,
            151.1852,
            -118.4068,
            -99.131,
            -73.9249
           ],
           "marker": {
            "color": "red",
            "size": 4
           },
           "mode": "lines+markers",
           "text": [
            "New York",
            "Toronto",
            "Buenos Aires",
            "Rio de Janeiro",
            "Cape Town",
            "Dubai",
            "Moscow",
            "Munich",
            "Lisbon",
            "Madrid",
            "London",
            "Paris",
            "Rome",
            "Istanbul",
            "Delhi",
            "Changping",
            "Seoul",
            "Tokyo",
            "Bangkok",
            "Sydney",
            "Los Angeles",
            "Mexico City",
            "New York"
           ],
           "type": "scattergeo"
          }
         ]
        },
        {
         "data": [
          {
           "lat": [
            40.6943,
            43.7,
            -34.6025,
            -22.925,
            -33.92,
            41.105,
            41.896,
            48.8667,
            51.5,
            40.4,
            38.7227,
            48.1299,
            55.7522,
            25.23,
            28.67,
            40.2248,
            37.5663,
            35.685,
            13.75,
            -33.92,
            34.1139,
            19.4424,
            40.6943
           ],
           "line": {
            "color": "blue",
            "width": 1
           },
           "lon": [
            -73.9249,
            -79.42,
            -58.3975,
            -43.225,
            18.435,
            29.01,
            12.4833,
            2.3333,
            -0.1167,
            -3.6834,
            -9.1449,
            11.575,
            37.6155,
            55.28,
            77.23,
            116.1944,
            126.9997,
            139.7514,
            100.5166,
            151.1852,
            -118.4068,
            -99.131,
            -73.9249
           ],
           "marker": {
            "color": "red",
            "size": 4
           },
           "mode": "lines+markers",
           "text": [
            "New York",
            "Toronto",
            "Buenos Aires",
            "Rio de Janeiro",
            "Cape Town",
            "Istanbul",
            "Rome",
            "Paris",
            "London",
            "Madrid",
            "Lisbon",
            "Munich",
            "Moscow",
            "Dubai",
            "Delhi",
            "Changping",
            "Seoul",
            "Tokyo",
            "Bangkok",
            "Sydney",
            "Los Angeles",
            "Mexico City",
            "New York"
           ],
           "type": "scattergeo"
          }
         ]
        },
        {
         "data": [
          {
           "lat": [
            43.7,
            -34.6025,
            -22.925,
            -33.92,
            41.105,
            41.896,
            48.8667,
            51.5,
            40.4,
            38.7227,
            48.1299,
            55.7522,
            25.23,
            28.67,
            40.2248,
            37.5663,
            35.685,
            13.75,
            -33.92,
            34.1139,
            19.4424,
            40.6943,
            43.7
           ],
           "line": {
            "color": "blue",
            "width": 1
           },
           "lon": [
            -79.42,
            -58.3975,
            -43.225,
            18.435,
            29.01,
            12.4833,
            2.3333,
            -0.1167,
            -3.6834,
            -9.1449,
            11.575,
            37.6155,
            55.28,
            77.23,
            116.1944,
            126.9997,
            139.7514,
            100.5166,
            151.1852,
            -118.4068,
            -99.131,
            -73.9249,
            -79.42
           ],
           "marker": {
            "color": "red",
            "size": 4
           },
           "mode": "lines+markers",
           "text": [
            "Toronto",
            "Buenos Aires",
            "Rio de Janeiro",
            "Cape Town",
            "Istanbul",
            "Rome",
            "Paris",
            "London",
            "Madrid",
            "Lisbon",
            "Munich",
            "Moscow",
            "Dubai",
            "Delhi",
            "Changping",
            "Seoul",
            "Tokyo",
            "Bangkok",
            "Sydney",
            "Los Angeles",
            "Mexico City",
            "New York",
            "Toronto"
           ],
           "type": "scattergeo"
          }
         ]
        },
        {
         "data": [
          {
           "lat": [
            43.7,
            -34.6025,
            -22.925,
            -33.92,
            41.105,
            41.896,
            48.8667,
            51.5,
            38.7227,
            40.4,
            48.1299,
            55.7522,
            25.23,
            28.67,
            40.2248,
            37.5663,
            35.685,
            13.75,
            -33.92,
            34.1139,
            19.4424,
            40.6943,
            43.7
           ],
           "line": {
            "color": "blue",
            "width": 1
           },
           "lon": [
            -79.42,
            -58.3975,
            -43.225,
            18.435,
            29.01,
            12.4833,
            2.3333,
            -0.1167,
            -9.1449,
            -3.6834,
            11.575,
            37.6155,
            55.28,
            77.23,
            116.1944,
            126.9997,
            139.7514,
            100.5166,
            151.1852,
            -118.4068,
            -99.131,
            -73.9249,
            -79.42
           ],
           "marker": {
            "color": "red",
            "size": 4
           },
           "mode": "lines+markers",
           "text": [
            "Toronto",
            "Buenos Aires",
            "Rio de Janeiro",
            "Cape Town",
            "Istanbul",
            "Rome",
            "Paris",
            "London",
            "Lisbon",
            "Madrid",
            "Munich",
            "Moscow",
            "Dubai",
            "Delhi",
            "Changping",
            "Seoul",
            "Tokyo",
            "Bangkok",
            "Sydney",
            "Los Angeles",
            "Mexico City",
            "New York",
            "Toronto"
           ],
           "type": "scattergeo"
          }
         ]
        },
        {
         "data": [
          {
           "lat": [
            43.7,
            34.1139,
            -33.92,
            13.75,
            35.685,
            37.5663,
            40.2248,
            28.67,
            25.23,
            55.7522,
            48.1299,
            40.4,
            38.7227,
            51.5,
            48.8667,
            41.896,
            41.105,
            -33.92,
            -22.925,
            -34.6025,
            19.4424,
            40.6943,
            43.7
           ],
           "line": {
            "color": "blue",
            "width": 1
           },
           "lon": [
            -79.42,
            -118.4068,
            151.1852,
            100.5166,
            139.7514,
            126.9997,
            116.1944,
            77.23,
            55.28,
            37.6155,
            11.575,
            -3.6834,
            -9.1449,
            -0.1167,
            2.3333,
            12.4833,
            29.01,
            18.435,
            -43.225,
            -58.3975,
            -99.131,
            -73.9249,
            -79.42
           ],
           "marker": {
            "color": "red",
            "size": 4
           },
           "mode": "lines+markers",
           "text": [
            "Toronto",
            "Los Angeles",
            "Sydney",
            "Bangkok",
            "Tokyo",
            "Seoul",
            "Changping",
            "Delhi",
            "Dubai",
            "Moscow",
            "Munich",
            "Madrid",
            "Lisbon",
            "London",
            "Paris",
            "Rome",
            "Istanbul",
            "Cape Town",
            "Rio de Janeiro",
            "Buenos Aires",
            "Mexico City",
            "New York",
            "Toronto"
           ],
           "type": "scattergeo"
          }
         ]
        },
        {
         "data": [
          {
           "lat": [
            43.7,
            34.1139,
            -33.92,
            13.75,
            35.685,
            37.5663,
            40.2248,
            28.67,
            25.23,
            55.7522,
            48.1299,
            48.8667,
            51.5,
            38.7227,
            40.4,
            41.896,
            41.105,
            -33.92,
            -22.925,
            -34.6025,
            19.4424,
            40.6943,
            43.7
           ],
           "line": {
            "color": "blue",
            "width": 1
           },
           "lon": [
            -79.42,
            -118.4068,
            151.1852,
            100.5166,
            139.7514,
            126.9997,
            116.1944,
            77.23,
            55.28,
            37.6155,
            11.575,
            2.3333,
            -0.1167,
            -9.1449,
            -3.6834,
            12.4833,
            29.01,
            18.435,
            -43.225,
            -58.3975,
            -99.131,
            -73.9249,
            -79.42
           ],
           "marker": {
            "color": "red",
            "size": 4
           },
           "mode": "lines+markers",
           "text": [
            "Toronto",
            "Los Angeles",
            "Sydney",
            "Bangkok",
            "Tokyo",
            "Seoul",
            "Changping",
            "Delhi",
            "Dubai",
            "Moscow",
            "Munich",
            "Paris",
            "London",
            "Lisbon",
            "Madrid",
            "Rome",
            "Istanbul",
            "Cape Town",
            "Rio de Janeiro",
            "Buenos Aires",
            "Mexico City",
            "New York",
            "Toronto"
           ],
           "type": "scattergeo"
          }
         ]
        },
        {
         "data": [
          {
           "lat": [
            -33.92,
            13.75,
            35.685,
            37.5663,
            40.2248,
            28.67,
            25.23,
            55.7522,
            48.1299,
            48.8667,
            51.5,
            38.7227,
            40.4,
            41.896,
            41.105,
            -33.92,
            -22.925,
            -34.6025,
            19.4424,
            40.6943,
            43.7,
            34.1139,
            -33.92
           ],
           "line": {
            "color": "blue",
            "width": 1
           },
           "lon": [
            151.1852,
            100.5166,
            139.7514,
            126.9997,
            116.1944,
            77.23,
            55.28,
            37.6155,
            11.575,
            2.3333,
            -0.1167,
            -9.1449,
            -3.6834,
            12.4833,
            29.01,
            18.435,
            -43.225,
            -58.3975,
            -99.131,
            -73.9249,
            -79.42,
            -118.4068,
            151.1852
           ],
           "marker": {
            "color": "red",
            "size": 4
           },
           "mode": "lines+markers",
           "text": [
            "Sydney",
            "Bangkok",
            "Tokyo",
            "Seoul",
            "Changping",
            "Delhi",
            "Dubai",
            "Moscow",
            "Munich",
            "Paris",
            "London",
            "Lisbon",
            "Madrid",
            "Rome",
            "Istanbul",
            "Cape Town",
            "Rio de Janeiro",
            "Buenos Aires",
            "Mexico City",
            "New York",
            "Toronto",
            "Los Angeles",
            "Sydney"
           ],
           "type": "scattergeo"
          }
         ]
        },
        {
         "data": [
          {
           "lat": [
            13.75,
            35.685,
            37.5663,
            40.2248,
            28.67,
            25.23,
            55.7522,
            48.1299,
            48.8667,
            51.5,
            38.7227,
            40.4,
            41.896,
            41.105,
            -33.92,
            -22.925,
            -34.6025,
            19.4424,
            40.6943,
            43.7,
            34.1139,
            -33.92,
            13.75
           ],
           "line": {
            "color": "blue",
            "width": 1
           },
           "lon": [
            100.5166,
            139.7514,
            126.9997,
            116.1944,
            77.23,
            55.28,
            37.6155,
            11.575,
            2.3333,
            -0.1167,
            -9.1449,
            -3.6834,
            12.4833,
            29.01,
            18.435,
            -43.225,
            -58.3975,
            -99.131,
            -73.9249,
            -79.42,
            -118.4068,
            151.1852,
            100.5166
           ],
           "marker": {
            "color": "red",
            "size": 4
           },
           "mode": "lines+markers",
           "text": [
            "Bangkok",
            "Tokyo",
            "Seoul",
            "Changping",
            "Delhi",
            "Dubai",
            "Moscow",
            "Munich",
            "Paris",
            "London",
            "Lisbon",
            "Madrid",
            "Rome",
            "Istanbul",
            "Cape Town",
            "Rio de Janeiro",
            "Buenos Aires",
            "Mexico City",
            "New York",
            "Toronto",
            "Los Angeles",
            "Sydney",
            "Bangkok"
           ],
           "type": "scattergeo"
          }
         ]
        },
        {
         "data": [
          {
           "lat": [
            13.75,
            35.685,
            37.5663,
            40.2248,
            28.67,
            25.23,
            55.7522,
            41.105,
            41.896,
            48.1299,
            48.8667,
            51.5,
            38.7227,
            40.4,
            -33.92,
            -22.925,
            -34.6025,
            19.4424,
            40.6943,
            43.7,
            34.1139,
            -33.92,
            13.75
           ],
           "line": {
            "color": "blue",
            "width": 1
           },
           "lon": [
            100.5166,
            139.7514,
            126.9997,
            116.1944,
            77.23,
            55.28,
            37.6155,
            29.01,
            12.4833,
            11.575,
            2.3333,
            -0.1167,
            -9.1449,
            -3.6834,
            18.435,
            -43.225,
            -58.3975,
            -99.131,
            -73.9249,
            -79.42,
            -118.4068,
            151.1852,
            100.5166
           ],
           "marker": {
            "color": "red",
            "size": 4
           },
           "mode": "lines+markers",
           "text": [
            "Bangkok",
            "Tokyo",
            "Seoul",
            "Changping",
            "Delhi",
            "Dubai",
            "Moscow",
            "Istanbul",
            "Rome",
            "Munich",
            "Paris",
            "London",
            "Lisbon",
            "Madrid",
            "Cape Town",
            "Rio de Janeiro",
            "Buenos Aires",
            "Mexico City",
            "New York",
            "Toronto",
            "Los Angeles",
            "Sydney",
            "Bangkok"
           ],
           "type": "scattergeo"
          }
         ]
        },
        {
         "data": [
          {
           "lat": [
            13.75,
            35.685,
            37.5663,
            40.2248,
            28.67,
            25.23,
            55.7522,
            41.105,
            41.896,
            48.1299,
            48.8667,
            51.5,
            38.7227,
            40.4,
            34.1139,
            43.7,
            40.6943,
            19.4424,
            -34.6025,
            -22.925,
            -33.92,
            -33.92,
            13.75
           ],
           "line": {
            "color": "blue",
            "width": 1
           },
           "lon": [
            100.5166,
            139.7514,
            126.9997,
            116.1944,
            77.23,
            55.28,
            37.6155,
            29.01,
            12.4833,
            11.575,
            2.3333,
            -0.1167,
            -9.1449,
            -3.6834,
            -118.4068,
            -79.42,
            -73.9249,
            -99.131,
            -58.3975,
            -43.225,
            18.435,
            151.1852,
            100.5166
           ],
           "marker": {
            "color": "red",
            "size": 4
           },
           "mode": "lines+markers",
           "text": [
            "Bangkok",
            "Tokyo",
            "Seoul",
            "Changping",
            "Delhi",
            "Dubai",
            "Moscow",
            "Istanbul",
            "Rome",
            "Munich",
            "Paris",
            "London",
            "Lisbon",
            "Madrid",
            "Los Angeles",
            "Toronto",
            "New York",
            "Mexico City",
            "Buenos Aires",
            "Rio de Janeiro",
            "Cape Town",
            "Sydney",
            "Bangkok"
           ],
           "type": "scattergeo"
          }
         ]
        },
        {
         "data": [
          {
           "lat": [
            13.75,
            35.685,
            37.5663,
            40.2248,
            28.67,
            25.23,
            55.7522,
            41.105,
            41.896,
            48.1299,
            48.8667,
            51.5,
            38.7227,
            40.4,
            40.6943,
            43.7,
            34.1139,
            19.4424,
            -34.6025,
            -22.925,
            -33.92,
            -33.92,
            13.75
           ],
           "line": {
            "color": "blue",
            "width": 1
           },
           "lon": [
            100.5166,
            139.7514,
            126.9997,
            116.1944,
            77.23,
            55.28,
            37.6155,
            29.01,
            12.4833,
            11.575,
            2.3333,
            -0.1167,
            -9.1449,
            -3.6834,
            -73.9249,
            -79.42,
            -118.4068,
            -99.131,
            -58.3975,
            -43.225,
            18.435,
            151.1852,
            100.5166
           ],
           "marker": {
            "color": "red",
            "size": 4
           },
           "mode": "lines+markers",
           "text": [
            "Bangkok",
            "Tokyo",
            "Seoul",
            "Changping",
            "Delhi",
            "Dubai",
            "Moscow",
            "Istanbul",
            "Rome",
            "Munich",
            "Paris",
            "London",
            "Lisbon",
            "Madrid",
            "New York",
            "Toronto",
            "Los Angeles",
            "Mexico City",
            "Buenos Aires",
            "Rio de Janeiro",
            "Cape Town",
            "Sydney",
            "Bangkok"
           ],
           "type": "scattergeo"
          }
         ]
        },
        {
         "data": [
          {
           "lat": [
            13.75,
            35.685,
            37.5663,
            40.2248,
            28.67,
            25.23,
            55.7522,
            41.105,
            41.896,
            48.1299,
            48.8667,
            51.5,
            40.4,
            38.7227,
            40.6943,
            43.7,
            34.1139,
            19.4424,
            -34.6025,
            -22.925,
            -33.92,
            -33.92,
            13.75
           ],
           "line": {
            "color": "blue",
            "width": 1
           },
           "lon": [
            100.5166,
            139.7514,
            126.9997,
            116.1944,
            77.23,
            55.28,
            37.6155,
            29.01,
            12.4833,
            11.575,
            2.3333,
            -0.1167,
            -3.6834,
            -9.1449,
            -73.9249,
            -79.42,
            -118.4068,
            -99.131,
            -58.3975,
            -43.225,
            18.435,
            151.1852,
            100.5166
           ],
           "marker": {
            "color": "red",
            "size": 4
           },
           "mode": "lines+markers",
           "text": [
            "Bangkok",
            "Tokyo",
            "Seoul",
            "Changping",
            "Delhi",
            "Dubai",
            "Moscow",
            "Istanbul",
            "Rome",
            "Munich",
            "Paris",
            "London",
            "Madrid",
            "Lisbon",
            "New York",
            "Toronto",
            "Los Angeles",
            "Mexico City",
            "Buenos Aires",
            "Rio de Janeiro",
            "Cape Town",
            "Sydney",
            "Bangkok"
           ],
           "type": "scattergeo"
          }
         ]
        }
       ],
       "layout": {
        "hovermode": "closest",
        "template": {
         "data": {
          "bar": [
           {
            "error_x": {
             "color": "#2a3f5f"
            },
            "error_y": {
             "color": "#2a3f5f"
            },
            "marker": {
             "line": {
              "color": "#E5ECF6",
              "width": 0.5
             }
            },
            "type": "bar"
           }
          ],
          "barpolar": [
           {
            "marker": {
             "line": {
              "color": "#E5ECF6",
              "width": 0.5
             }
            },
            "type": "barpolar"
           }
          ],
          "carpet": [
           {
            "aaxis": {
             "endlinecolor": "#2a3f5f",
             "gridcolor": "white",
             "linecolor": "white",
             "minorgridcolor": "white",
             "startlinecolor": "#2a3f5f"
            },
            "baxis": {
             "endlinecolor": "#2a3f5f",
             "gridcolor": "white",
             "linecolor": "white",
             "minorgridcolor": "white",
             "startlinecolor": "#2a3f5f"
            },
            "type": "carpet"
           }
          ],
          "choropleth": [
           {
            "colorbar": {
             "outlinewidth": 0,
             "ticks": ""
            },
            "type": "choropleth"
           }
          ],
          "contour": [
           {
            "colorbar": {
             "outlinewidth": 0,
             "ticks": ""
            },
            "colorscale": [
             [
              0,
              "#0d0887"
             ],
             [
              0.1111111111111111,
              "#46039f"
             ],
             [
              0.2222222222222222,
              "#7201a8"
             ],
             [
              0.3333333333333333,
              "#9c179e"
             ],
             [
              0.4444444444444444,
              "#bd3786"
             ],
             [
              0.5555555555555556,
              "#d8576b"
             ],
             [
              0.6666666666666666,
              "#ed7953"
             ],
             [
              0.7777777777777778,
              "#fb9f3a"
             ],
             [
              0.8888888888888888,
              "#fdca26"
             ],
             [
              1,
              "#f0f921"
             ]
            ],
            "type": "contour"
           }
          ],
          "contourcarpet": [
           {
            "colorbar": {
             "outlinewidth": 0,
             "ticks": ""
            },
            "type": "contourcarpet"
           }
          ],
          "heatmap": [
           {
            "colorbar": {
             "outlinewidth": 0,
             "ticks": ""
            },
            "colorscale": [
             [
              0,
              "#0d0887"
             ],
             [
              0.1111111111111111,
              "#46039f"
             ],
             [
              0.2222222222222222,
              "#7201a8"
             ],
             [
              0.3333333333333333,
              "#9c179e"
             ],
             [
              0.4444444444444444,
              "#bd3786"
             ],
             [
              0.5555555555555556,
              "#d8576b"
             ],
             [
              0.6666666666666666,
              "#ed7953"
             ],
             [
              0.7777777777777778,
              "#fb9f3a"
             ],
             [
              0.8888888888888888,
              "#fdca26"
             ],
             [
              1,
              "#f0f921"
             ]
            ],
            "type": "heatmap"
           }
          ],
          "heatmapgl": [
           {
            "colorbar": {
             "outlinewidth": 0,
             "ticks": ""
            },
            "colorscale": [
             [
              0,
              "#0d0887"
             ],
             [
              0.1111111111111111,
              "#46039f"
             ],
             [
              0.2222222222222222,
              "#7201a8"
             ],
             [
              0.3333333333333333,
              "#9c179e"
             ],
             [
              0.4444444444444444,
              "#bd3786"
             ],
             [
              0.5555555555555556,
              "#d8576b"
             ],
             [
              0.6666666666666666,
              "#ed7953"
             ],
             [
              0.7777777777777778,
              "#fb9f3a"
             ],
             [
              0.8888888888888888,
              "#fdca26"
             ],
             [
              1,
              "#f0f921"
             ]
            ],
            "type": "heatmapgl"
           }
          ],
          "histogram": [
           {
            "marker": {
             "colorbar": {
              "outlinewidth": 0,
              "ticks": ""
             }
            },
            "type": "histogram"
           }
          ],
          "histogram2d": [
           {
            "colorbar": {
             "outlinewidth": 0,
             "ticks": ""
            },
            "colorscale": [
             [
              0,
              "#0d0887"
             ],
             [
              0.1111111111111111,
              "#46039f"
             ],
             [
              0.2222222222222222,
              "#7201a8"
             ],
             [
              0.3333333333333333,
              "#9c179e"
             ],
             [
              0.4444444444444444,
              "#bd3786"
             ],
             [
              0.5555555555555556,
              "#d8576b"
             ],
             [
              0.6666666666666666,
              "#ed7953"
             ],
             [
              0.7777777777777778,
              "#fb9f3a"
             ],
             [
              0.8888888888888888,
              "#fdca26"
             ],
             [
              1,
              "#f0f921"
             ]
            ],
            "type": "histogram2d"
           }
          ],
          "histogram2dcontour": [
           {
            "colorbar": {
             "outlinewidth": 0,
             "ticks": ""
            },
            "colorscale": [
             [
              0,
              "#0d0887"
             ],
             [
              0.1111111111111111,
              "#46039f"
             ],
             [
              0.2222222222222222,
              "#7201a8"
             ],
             [
              0.3333333333333333,
              "#9c179e"
             ],
             [
              0.4444444444444444,
              "#bd3786"
             ],
             [
              0.5555555555555556,
              "#d8576b"
             ],
             [
              0.6666666666666666,
              "#ed7953"
             ],
             [
              0.7777777777777778,
              "#fb9f3a"
             ],
             [
              0.8888888888888888,
              "#fdca26"
             ],
             [
              1,
              "#f0f921"
             ]
            ],
            "type": "histogram2dcontour"
           }
          ],
          "mesh3d": [
           {
            "colorbar": {
             "outlinewidth": 0,
             "ticks": ""
            },
            "type": "mesh3d"
           }
          ],
          "parcoords": [
           {
            "line": {
             "colorbar": {
              "outlinewidth": 0,
              "ticks": ""
             }
            },
            "type": "parcoords"
           }
          ],
          "scatter": [
           {
            "marker": {
             "colorbar": {
              "outlinewidth": 0,
              "ticks": ""
             }
            },
            "type": "scatter"
           }
          ],
          "scatter3d": [
           {
            "line": {
             "colorbar": {
              "outlinewidth": 0,
              "ticks": ""
             }
            },
            "marker": {
             "colorbar": {
              "outlinewidth": 0,
              "ticks": ""
             }
            },
            "type": "scatter3d"
           }
          ],
          "scattercarpet": [
           {
            "marker": {
             "colorbar": {
              "outlinewidth": 0,
              "ticks": ""
             }
            },
            "type": "scattercarpet"
           }
          ],
          "scattergeo": [
           {
            "marker": {
             "colorbar": {
              "outlinewidth": 0,
              "ticks": ""
             }
            },
            "type": "scattergeo"
           }
          ],
          "scattergl": [
           {
            "marker": {
             "colorbar": {
              "outlinewidth": 0,
              "ticks": ""
             }
            },
            "type": "scattergl"
           }
          ],
          "scattermapbox": [
           {
            "marker": {
             "colorbar": {
              "outlinewidth": 0,
              "ticks": ""
             }
            },
            "type": "scattermapbox"
           }
          ],
          "scatterpolar": [
           {
            "marker": {
             "colorbar": {
              "outlinewidth": 0,
              "ticks": ""
             }
            },
            "type": "scatterpolar"
           }
          ],
          "scatterpolargl": [
           {
            "marker": {
             "colorbar": {
              "outlinewidth": 0,
              "ticks": ""
             }
            },
            "type": "scatterpolargl"
           }
          ],
          "scatterternary": [
           {
            "marker": {
             "colorbar": {
              "outlinewidth": 0,
              "ticks": ""
             }
            },
            "type": "scatterternary"
           }
          ],
          "surface": [
           {
            "colorbar": {
             "outlinewidth": 0,
             "ticks": ""
            },
            "colorscale": [
             [
              0,
              "#0d0887"
             ],
             [
              0.1111111111111111,
              "#46039f"
             ],
             [
              0.2222222222222222,
              "#7201a8"
             ],
             [
              0.3333333333333333,
              "#9c179e"
             ],
             [
              0.4444444444444444,
              "#bd3786"
             ],
             [
              0.5555555555555556,
              "#d8576b"
             ],
             [
              0.6666666666666666,
              "#ed7953"
             ],
             [
              0.7777777777777778,
              "#fb9f3a"
             ],
             [
              0.8888888888888888,
              "#fdca26"
             ],
             [
              1,
              "#f0f921"
             ]
            ],
            "type": "surface"
           }
          ],
          "table": [
           {
            "cells": {
             "fill": {
              "color": "#EBF0F8"
             },
             "line": {
              "color": "white"
             }
            },
            "header": {
             "fill": {
              "color": "#C8D4E3"
             },
             "line": {
              "color": "white"
             }
            },
            "type": "table"
           }
          ]
         },
         "layout": {
          "annotationdefaults": {
           "arrowcolor": "#2a3f5f",
           "arrowhead": 0,
           "arrowwidth": 1
          },
          "colorscale": {
           "diverging": [
            [
             0,
             "#8e0152"
            ],
            [
             0.1,
             "#c51b7d"
            ],
            [
             0.2,
             "#de77ae"
            ],
            [
             0.3,
             "#f1b6da"
            ],
            [
             0.4,
             "#fde0ef"
            ],
            [
             0.5,
             "#f7f7f7"
            ],
            [
             0.6,
             "#e6f5d0"
            ],
            [
             0.7,
             "#b8e186"
            ],
            [
             0.8,
             "#7fbc41"
            ],
            [
             0.9,
             "#4d9221"
            ],
            [
             1,
             "#276419"
            ]
           ],
           "sequential": [
            [
             0,
             "#0d0887"
            ],
            [
             0.1111111111111111,
             "#46039f"
            ],
            [
             0.2222222222222222,
             "#7201a8"
            ],
            [
             0.3333333333333333,
             "#9c179e"
            ],
            [
             0.4444444444444444,
             "#bd3786"
            ],
            [
             0.5555555555555556,
             "#d8576b"
            ],
            [
             0.6666666666666666,
             "#ed7953"
            ],
            [
             0.7777777777777778,
             "#fb9f3a"
            ],
            [
             0.8888888888888888,
             "#fdca26"
            ],
            [
             1,
             "#f0f921"
            ]
           ],
           "sequentialminus": [
            [
             0,
             "#0d0887"
            ],
            [
             0.1111111111111111,
             "#46039f"
            ],
            [
             0.2222222222222222,
             "#7201a8"
            ],
            [
             0.3333333333333333,
             "#9c179e"
            ],
            [
             0.4444444444444444,
             "#bd3786"
            ],
            [
             0.5555555555555556,
             "#d8576b"
            ],
            [
             0.6666666666666666,
             "#ed7953"
            ],
            [
             0.7777777777777778,
             "#fb9f3a"
            ],
            [
             0.8888888888888888,
             "#fdca26"
            ],
            [
             1,
             "#f0f921"
            ]
           ]
          },
          "colorway": [
           "#636efa",
           "#EF553B",
           "#00cc96",
           "#ab63fa",
           "#FFA15A",
           "#19d3f3",
           "#FF6692",
           "#B6E880",
           "#FF97FF",
           "#FECB52"
          ],
          "font": {
           "color": "#2a3f5f"
          },
          "geo": {
           "bgcolor": "white",
           "lakecolor": "white",
           "landcolor": "#E5ECF6",
           "showlakes": true,
           "showland": true,
           "subunitcolor": "white"
          },
          "hoverlabel": {
           "align": "left"
          },
          "hovermode": "closest",
          "mapbox": {
           "style": "light"
          },
          "paper_bgcolor": "white",
          "plot_bgcolor": "#E5ECF6",
          "polar": {
           "angularaxis": {
            "gridcolor": "white",
            "linecolor": "white",
            "ticks": ""
           },
           "bgcolor": "#E5ECF6",
           "radialaxis": {
            "gridcolor": "white",
            "linecolor": "white",
            "ticks": ""
           }
          },
          "scene": {
           "xaxis": {
            "backgroundcolor": "#E5ECF6",
            "gridcolor": "white",
            "gridwidth": 2,
            "linecolor": "white",
            "showbackground": true,
            "ticks": "",
            "zerolinecolor": "white"
           },
           "yaxis": {
            "backgroundcolor": "#E5ECF6",
            "gridcolor": "white",
            "gridwidth": 2,
            "linecolor": "white",
            "showbackground": true,
            "ticks": "",
            "zerolinecolor": "white"
           },
           "zaxis": {
            "backgroundcolor": "#E5ECF6",
            "gridcolor": "white",
            "gridwidth": 2,
            "linecolor": "white",
            "showbackground": true,
            "ticks": "",
            "zerolinecolor": "white"
           }
          },
          "shapedefaults": {
           "line": {
            "color": "#2a3f5f"
           }
          },
          "ternary": {
           "aaxis": {
            "gridcolor": "white",
            "linecolor": "white",
            "ticks": ""
           },
           "baxis": {
            "gridcolor": "white",
            "linecolor": "white",
            "ticks": ""
           },
           "bgcolor": "#E5ECF6",
           "caxis": {
            "gridcolor": "white",
            "linecolor": "white",
            "ticks": ""
           }
          },
          "title": {
           "x": 0.05
          },
          "xaxis": {
           "automargin": true,
           "gridcolor": "white",
           "linecolor": "white",
           "ticks": "",
           "zerolinecolor": "white",
           "zerolinewidth": 2
          },
          "yaxis": {
           "automargin": true,
           "gridcolor": "white",
           "linecolor": "white",
           "ticks": "",
           "zerolinecolor": "white",
           "zerolinewidth": 2
          }
         }
        },
        "title": {
         "text": "TSP Problem"
        },
        "updatemenus": [
         {
          "buttons": [
           {
            "args": [
             null
            ],
            "label": "Play",
            "method": "animate"
           },
           {
            "args": [
             null
            ],
            "label": "Pause",
            "method": "animate"
           }
          ],
          "type": "buttons"
         }
        ]
       }
      },
      "text/html": [
       "<div>\n",
       "        \n",
       "        \n",
       "            <div id=\"3e3f6031-395a-4b3e-9723-0d08305dcb09\" class=\"plotly-graph-div\" style=\"height:525px; width:100%;\"></div>\n",
       "            <script type=\"text/javascript\">\n",
       "                require([\"plotly\"], function(Plotly) {\n",
       "                    window.PLOTLYENV=window.PLOTLYENV || {};\n",
       "                    \n",
       "                if (document.getElementById(\"3e3f6031-395a-4b3e-9723-0d08305dcb09\")) {\n",
       "                    Plotly.newPlot(\n",
       "                        '3e3f6031-395a-4b3e-9723-0d08305dcb09',\n",
       "                        [{\"hoverinfo\": \"text\", \"lat\": [38.7227, 55.7522, 40.2248, 13.75, 34.1139, 40.6943, 43.7, -34.6025, 51.5, 48.1299, 25.23, 19.4424, 41.896, -33.92, -33.92, 40.4, 48.8667, 35.685, 28.67, 37.5663, 41.105, -22.925, 38.7227], \"line\": {\"color\": \"blue\", \"width\": 1}, \"lon\": [-9.1449, 37.6155, 116.1944, 100.5166, -118.4068, -73.9249, -79.42, -58.3975, -0.1167, 11.575, 55.28, -99.131, 12.4833, 18.435, 151.1852, -3.6834, 2.3333, 139.7514, 77.23, 126.9997, 29.01, -43.225, -9.1449], \"marker\": {\"color\": \"red\", \"size\": 4}, \"mode\": \"lines+markers\", \"text\": [\"Lisbon\", \"Moscow\", \"Changping\", \"Bangkok\", \"Los Angeles\", \"New York\", \"Toronto\", \"Buenos Aires\", \"London\", \"Munich\", \"Dubai\", \"Mexico City\", \"Rome\", \"Cape Town\", \"Sydney\", \"Madrid\", \"Paris\", \"Tokyo\", \"Delhi\", \"Seoul\", \"Istanbul\", \"Rio de Janeiro\", \"Lisbon\"], \"type\": \"scattergeo\"}],\n",
       "                        {\"hovermode\": \"closest\", \"template\": {\"data\": {\"bar\": [{\"error_x\": {\"color\": \"#2a3f5f\"}, \"error_y\": {\"color\": \"#2a3f5f\"}, \"marker\": {\"line\": {\"color\": \"#E5ECF6\", \"width\": 0.5}}, \"type\": \"bar\"}], \"barpolar\": [{\"marker\": {\"line\": {\"color\": \"#E5ECF6\", \"width\": 0.5}}, \"type\": \"barpolar\"}], \"carpet\": [{\"aaxis\": {\"endlinecolor\": \"#2a3f5f\", \"gridcolor\": \"white\", \"linecolor\": \"white\", \"minorgridcolor\": \"white\", \"startlinecolor\": \"#2a3f5f\"}, \"baxis\": {\"endlinecolor\": \"#2a3f5f\", \"gridcolor\": \"white\", \"linecolor\": \"white\", \"minorgridcolor\": \"white\", \"startlinecolor\": \"#2a3f5f\"}, \"type\": \"carpet\"}], \"choropleth\": [{\"colorbar\": {\"outlinewidth\": 0, \"ticks\": \"\"}, \"type\": \"choropleth\"}], \"contour\": [{\"colorbar\": {\"outlinewidth\": 0, \"ticks\": \"\"}, \"colorscale\": [[0.0, \"#0d0887\"], [0.1111111111111111, \"#46039f\"], [0.2222222222222222, \"#7201a8\"], [0.3333333333333333, \"#9c179e\"], [0.4444444444444444, \"#bd3786\"], [0.5555555555555556, \"#d8576b\"], [0.6666666666666666, \"#ed7953\"], [0.7777777777777778, \"#fb9f3a\"], [0.8888888888888888, \"#fdca26\"], [1.0, \"#f0f921\"]], \"type\": \"contour\"}], \"contourcarpet\": [{\"colorbar\": {\"outlinewidth\": 0, \"ticks\": \"\"}, \"type\": \"contourcarpet\"}], \"heatmap\": [{\"colorbar\": {\"outlinewidth\": 0, \"ticks\": \"\"}, \"colorscale\": [[0.0, \"#0d0887\"], [0.1111111111111111, \"#46039f\"], [0.2222222222222222, \"#7201a8\"], [0.3333333333333333, \"#9c179e\"], [0.4444444444444444, \"#bd3786\"], [0.5555555555555556, \"#d8576b\"], [0.6666666666666666, \"#ed7953\"], [0.7777777777777778, \"#fb9f3a\"], [0.8888888888888888, \"#fdca26\"], [1.0, \"#f0f921\"]], \"type\": \"heatmap\"}], \"heatmapgl\": [{\"colorbar\": {\"outlinewidth\": 0, \"ticks\": \"\"}, \"colorscale\": [[0.0, \"#0d0887\"], [0.1111111111111111, \"#46039f\"], [0.2222222222222222, \"#7201a8\"], [0.3333333333333333, \"#9c179e\"], [0.4444444444444444, \"#bd3786\"], [0.5555555555555556, \"#d8576b\"], [0.6666666666666666, \"#ed7953\"], [0.7777777777777778, \"#fb9f3a\"], [0.8888888888888888, \"#fdca26\"], [1.0, \"#f0f921\"]], \"type\": \"heatmapgl\"}], \"histogram\": [{\"marker\": {\"colorbar\": {\"outlinewidth\": 0, \"ticks\": \"\"}}, \"type\": \"histogram\"}], \"histogram2d\": [{\"colorbar\": {\"outlinewidth\": 0, \"ticks\": \"\"}, \"colorscale\": [[0.0, \"#0d0887\"], [0.1111111111111111, \"#46039f\"], [0.2222222222222222, \"#7201a8\"], [0.3333333333333333, \"#9c179e\"], [0.4444444444444444, \"#bd3786\"], [0.5555555555555556, \"#d8576b\"], [0.6666666666666666, \"#ed7953\"], [0.7777777777777778, \"#fb9f3a\"], [0.8888888888888888, \"#fdca26\"], [1.0, \"#f0f921\"]], \"type\": \"histogram2d\"}], \"histogram2dcontour\": [{\"colorbar\": {\"outlinewidth\": 0, \"ticks\": \"\"}, \"colorscale\": [[0.0, \"#0d0887\"], [0.1111111111111111, \"#46039f\"], [0.2222222222222222, \"#7201a8\"], [0.3333333333333333, \"#9c179e\"], [0.4444444444444444, \"#bd3786\"], [0.5555555555555556, \"#d8576b\"], [0.6666666666666666, \"#ed7953\"], [0.7777777777777778, \"#fb9f3a\"], [0.8888888888888888, \"#fdca26\"], [1.0, \"#f0f921\"]], \"type\": \"histogram2dcontour\"}], \"mesh3d\": [{\"colorbar\": {\"outlinewidth\": 0, \"ticks\": \"\"}, \"type\": \"mesh3d\"}], \"parcoords\": [{\"line\": {\"colorbar\": {\"outlinewidth\": 0, \"ticks\": \"\"}}, \"type\": \"parcoords\"}], \"scatter\": [{\"marker\": {\"colorbar\": {\"outlinewidth\": 0, \"ticks\": \"\"}}, \"type\": \"scatter\"}], \"scatter3d\": [{\"line\": {\"colorbar\": {\"outlinewidth\": 0, \"ticks\": \"\"}}, \"marker\": {\"colorbar\": {\"outlinewidth\": 0, \"ticks\": \"\"}}, \"type\": \"scatter3d\"}], \"scattercarpet\": [{\"marker\": {\"colorbar\": {\"outlinewidth\": 0, \"ticks\": \"\"}}, \"type\": \"scattercarpet\"}], \"scattergeo\": [{\"marker\": {\"colorbar\": {\"outlinewidth\": 0, \"ticks\": \"\"}}, \"type\": \"scattergeo\"}], \"scattergl\": [{\"marker\": {\"colorbar\": {\"outlinewidth\": 0, \"ticks\": \"\"}}, \"type\": \"scattergl\"}], \"scattermapbox\": [{\"marker\": {\"colorbar\": {\"outlinewidth\": 0, \"ticks\": \"\"}}, \"type\": \"scattermapbox\"}], \"scatterpolar\": [{\"marker\": {\"colorbar\": {\"outlinewidth\": 0, \"ticks\": \"\"}}, \"type\": \"scatterpolar\"}], \"scatterpolargl\": [{\"marker\": {\"colorbar\": {\"outlinewidth\": 0, \"ticks\": \"\"}}, \"type\": \"scatterpolargl\"}], \"scatterternary\": [{\"marker\": {\"colorbar\": {\"outlinewidth\": 0, \"ticks\": \"\"}}, \"type\": \"scatterternary\"}], \"surface\": [{\"colorbar\": {\"outlinewidth\": 0, \"ticks\": \"\"}, \"colorscale\": [[0.0, \"#0d0887\"], [0.1111111111111111, \"#46039f\"], [0.2222222222222222, \"#7201a8\"], [0.3333333333333333, \"#9c179e\"], [0.4444444444444444, \"#bd3786\"], [0.5555555555555556, \"#d8576b\"], [0.6666666666666666, \"#ed7953\"], [0.7777777777777778, \"#fb9f3a\"], [0.8888888888888888, \"#fdca26\"], [1.0, \"#f0f921\"]], \"type\": \"surface\"}], \"table\": [{\"cells\": {\"fill\": {\"color\": \"#EBF0F8\"}, \"line\": {\"color\": \"white\"}}, \"header\": {\"fill\": {\"color\": \"#C8D4E3\"}, \"line\": {\"color\": \"white\"}}, \"type\": \"table\"}]}, \"layout\": {\"annotationdefaults\": {\"arrowcolor\": \"#2a3f5f\", \"arrowhead\": 0, \"arrowwidth\": 1}, \"colorscale\": {\"diverging\": [[0, \"#8e0152\"], [0.1, \"#c51b7d\"], [0.2, \"#de77ae\"], [0.3, \"#f1b6da\"], [0.4, \"#fde0ef\"], [0.5, \"#f7f7f7\"], [0.6, \"#e6f5d0\"], [0.7, \"#b8e186\"], [0.8, \"#7fbc41\"], [0.9, \"#4d9221\"], [1, \"#276419\"]], \"sequential\": [[0.0, \"#0d0887\"], [0.1111111111111111, \"#46039f\"], [0.2222222222222222, \"#7201a8\"], [0.3333333333333333, \"#9c179e\"], [0.4444444444444444, \"#bd3786\"], [0.5555555555555556, \"#d8576b\"], [0.6666666666666666, \"#ed7953\"], [0.7777777777777778, \"#fb9f3a\"], [0.8888888888888888, \"#fdca26\"], [1.0, \"#f0f921\"]], \"sequentialminus\": [[0.0, \"#0d0887\"], [0.1111111111111111, \"#46039f\"], [0.2222222222222222, \"#7201a8\"], [0.3333333333333333, \"#9c179e\"], [0.4444444444444444, \"#bd3786\"], [0.5555555555555556, \"#d8576b\"], [0.6666666666666666, \"#ed7953\"], [0.7777777777777778, \"#fb9f3a\"], [0.8888888888888888, \"#fdca26\"], [1.0, \"#f0f921\"]]}, \"colorway\": [\"#636efa\", \"#EF553B\", \"#00cc96\", \"#ab63fa\", \"#FFA15A\", \"#19d3f3\", \"#FF6692\", \"#B6E880\", \"#FF97FF\", \"#FECB52\"], \"font\": {\"color\": \"#2a3f5f\"}, \"geo\": {\"bgcolor\": \"white\", \"lakecolor\": \"white\", \"landcolor\": \"#E5ECF6\", \"showlakes\": true, \"showland\": true, \"subunitcolor\": \"white\"}, \"hoverlabel\": {\"align\": \"left\"}, \"hovermode\": \"closest\", \"mapbox\": {\"style\": \"light\"}, \"paper_bgcolor\": \"white\", \"plot_bgcolor\": \"#E5ECF6\", \"polar\": {\"angularaxis\": {\"gridcolor\": \"white\", \"linecolor\": \"white\", \"ticks\": \"\"}, \"bgcolor\": \"#E5ECF6\", \"radialaxis\": {\"gridcolor\": \"white\", \"linecolor\": \"white\", \"ticks\": \"\"}}, \"scene\": {\"xaxis\": {\"backgroundcolor\": \"#E5ECF6\", \"gridcolor\": \"white\", \"gridwidth\": 2, \"linecolor\": \"white\", \"showbackground\": true, \"ticks\": \"\", \"zerolinecolor\": \"white\"}, \"yaxis\": {\"backgroundcolor\": \"#E5ECF6\", \"gridcolor\": \"white\", \"gridwidth\": 2, \"linecolor\": \"white\", \"showbackground\": true, \"ticks\": \"\", \"zerolinecolor\": \"white\"}, \"zaxis\": {\"backgroundcolor\": \"#E5ECF6\", \"gridcolor\": \"white\", \"gridwidth\": 2, \"linecolor\": \"white\", \"showbackground\": true, \"ticks\": \"\", \"zerolinecolor\": \"white\"}}, \"shapedefaults\": {\"line\": {\"color\": \"#2a3f5f\"}}, \"ternary\": {\"aaxis\": {\"gridcolor\": \"white\", \"linecolor\": \"white\", \"ticks\": \"\"}, \"baxis\": {\"gridcolor\": \"white\", \"linecolor\": \"white\", \"ticks\": \"\"}, \"bgcolor\": \"#E5ECF6\", \"caxis\": {\"gridcolor\": \"white\", \"linecolor\": \"white\", \"ticks\": \"\"}}, \"title\": {\"x\": 0.05}, \"xaxis\": {\"automargin\": true, \"gridcolor\": \"white\", \"linecolor\": \"white\", \"ticks\": \"\", \"zerolinecolor\": \"white\", \"zerolinewidth\": 2}, \"yaxis\": {\"automargin\": true, \"gridcolor\": \"white\", \"linecolor\": \"white\", \"ticks\": \"\", \"zerolinecolor\": \"white\", \"zerolinewidth\": 2}}}, \"title\": {\"text\": \"TSP Problem\"}, \"updatemenus\": [{\"buttons\": [{\"args\": [null], \"label\": \"Play\", \"method\": \"animate\"}, {\"args\": [null], \"label\": \"Pause\", \"method\": \"animate\"}], \"type\": \"buttons\"}]},\n",
       "                        {\"responsive\": true}\n",
       "                    ).then(function(){\n",
       "                            Plotly.addFrames('3e3f6031-395a-4b3e-9723-0d08305dcb09', [{\"data\": [{\"lat\": [38.7227, 55.7522, 40.2248, 13.75, 34.1139, 40.6943, 43.7, -34.6025, 51.5, 48.1299, 25.23, 19.4424, 41.896, -33.92, -33.92, 40.4, 48.8667, 35.685, 28.67, 37.5663, 41.105, -22.925, 38.7227], \"line\": {\"color\": \"blue\", \"width\": 1}, \"lon\": [-9.1449, 37.6155, 116.1944, 100.5166, -118.4068, -73.9249, -79.42, -58.3975, -0.1167, 11.575, 55.28, -99.131, 12.4833, 18.435, 151.1852, -3.6834, 2.3333, 139.7514, 77.23, 126.9997, 29.01, -43.225, -9.1449], \"marker\": {\"color\": \"red\", \"size\": 4}, \"mode\": \"lines+markers\", \"text\": [\"Lisbon\", \"Moscow\", \"Changping\", \"Bangkok\", \"Los Angeles\", \"New York\", \"Toronto\", \"Buenos Aires\", \"London\", \"Munich\", \"Dubai\", \"Mexico City\", \"Rome\", \"Cape Town\", \"Sydney\", \"Madrid\", \"Paris\", \"Tokyo\", \"Delhi\", \"Seoul\", \"Istanbul\", \"Rio de Janeiro\", \"Lisbon\"], \"type\": \"scattergeo\"}]}, {\"data\": [{\"lat\": [-22.925, 38.7227, 41.105, 55.7522, 34.1139, 40.6943, 43.7, -34.6025, 51.5, 48.1299, 25.23, 19.4424, 41.896, 40.4, -33.92, -33.92, 48.8667, 35.685, 28.67, 37.5663, 40.2248, 13.75, -22.925], \"line\": {\"color\": \"blue\", \"width\": 1}, \"lon\": [-43.225, -9.1449, 29.01, 37.6155, -118.4068, -73.9249, -79.42, -58.3975, -0.1167, 11.575, 55.28, -99.131, 12.4833, -3.6834, 151.1852, 18.435, 2.3333, 139.7514, 77.23, 126.9997, 116.1944, 100.5166, -43.225], \"marker\": {\"color\": \"red\", \"size\": 4}, \"mode\": \"lines+markers\", \"text\": [\"Rio de Janeiro\", \"Lisbon\", \"Istanbul\", \"Moscow\", \"Los Angeles\", \"New York\", \"Toronto\", \"Buenos Aires\", \"London\", \"Munich\", \"Dubai\", \"Mexico City\", \"Rome\", \"Madrid\", \"Sydney\", \"Cape Town\", \"Paris\", \"Tokyo\", \"Delhi\", \"Seoul\", \"Changping\", \"Bangkok\", \"Rio de Janeiro\"], \"type\": \"scattergeo\"}]}, {\"data\": [{\"lat\": [13.75, -22.925, 34.1139, 19.4424, 48.1299, 40.4, 51.5, 40.6943, 28.67, 25.23, 38.7227, 48.8667, 41.896, 43.7, 35.685, -34.6025, -33.92, 55.7522, 41.105, 40.2248, -33.92, 37.5663, 13.75], \"line\": {\"color\": \"blue\", \"width\": 1}, \"lon\": [100.5166, -43.225, -118.4068, -99.131, 11.575, -3.6834, -0.1167, -73.9249, 77.23, 55.28, -9.1449, 2.3333, 12.4833, -79.42, 139.7514, -58.3975, 18.435, 37.6155, 29.01, 116.1944, 151.1852, 126.9997, 100.5166], \"marker\": {\"color\": \"red\", \"size\": 4}, \"mode\": \"lines+markers\", \"text\": [\"Bangkok\", \"Rio de Janeiro\", \"Los Angeles\", \"Mexico City\", \"Munich\", \"Madrid\", \"London\", \"New York\", \"Delhi\", \"Dubai\", \"Lisbon\", \"Paris\", \"Rome\", \"Toronto\", \"Tokyo\", \"Buenos Aires\", \"Cape Town\", \"Moscow\", \"Istanbul\", \"Changping\", \"Sydney\", \"Seoul\", \"Bangkok\"], \"type\": \"scattergeo\"}]}, {\"data\": [{\"lat\": [-33.92, 40.6943, 48.8667, 41.896, 43.7, 55.7522, -34.6025, -22.925, 34.1139, 19.4424, 48.1299, 25.23, 38.7227, -33.92, 40.4, 51.5, 40.2248, 35.685, 28.67, 13.75, 41.105, 37.5663, -33.92], \"line\": {\"color\": \"blue\", \"width\": 1}, \"lon\": [151.1852, -73.9249, 2.3333, 12.4833, -79.42, 37.6155, -58.3975, -43.225, -118.4068, -99.131, 11.575, 55.28, -9.1449, 18.435, -3.6834, -0.1167, 116.1944, 139.7514, 77.23, 100.5166, 29.01, 126.9997, 151.1852], \"marker\": {\"color\": \"red\", \"size\": 4}, \"mode\": \"lines+markers\", \"text\": [\"Sydney\", \"New York\", \"Paris\", \"Rome\", \"Toronto\", \"Moscow\", \"Buenos Aires\", \"Rio de Janeiro\", \"Los Angeles\", \"Mexico City\", \"Munich\", \"Dubai\", \"Lisbon\", \"Cape Town\", \"Madrid\", \"London\", \"Changping\", \"Tokyo\", \"Delhi\", \"Bangkok\", \"Istanbul\", \"Seoul\", \"Sydney\"], \"type\": \"scattergeo\"}]}, {\"data\": [{\"lat\": [-33.92, 40.6943, 48.8667, 41.896, 43.7, 55.7522, -34.6025, -22.925, 34.1139, 19.4424, 48.1299, 41.105, 13.75, 28.67, 35.685, 40.2248, 51.5, 40.4, -33.92, 38.7227, 25.23, 37.5663, -33.92], \"line\": {\"color\": \"blue\", \"width\": 1}, \"lon\": [151.1852, -73.9249, 2.3333, 12.4833, -79.42, 37.6155, -58.3975, -43.225, -118.4068, -99.131, 11.575, 29.01, 100.5166, 77.23, 139.7514, 116.1944, -0.1167, -3.6834, 18.435, -9.1449, 55.28, 126.9997, 151.1852], \"marker\": {\"color\": \"red\", \"size\": 4}, \"mode\": \"lines+markers\", \"text\": [\"Sydney\", \"New York\", \"Paris\", \"Rome\", \"Toronto\", \"Moscow\", \"Buenos Aires\", \"Rio de Janeiro\", \"Los Angeles\", \"Mexico City\", \"Munich\", \"Istanbul\", \"Bangkok\", \"Delhi\", \"Tokyo\", \"Changping\", \"London\", \"Madrid\", \"Cape Town\", \"Lisbon\", \"Dubai\", \"Seoul\", \"Sydney\"], \"type\": \"scattergeo\"}]}, {\"data\": [{\"lat\": [13.75, -22.925, 34.1139, 19.4424, 48.1299, 40.4, 51.5, 40.6943, 43.7, 35.685, -34.6025, -33.92, 25.23, 28.67, 41.896, 48.8667, 38.7227, 55.7522, 41.105, 40.2248, -33.92, 37.5663, 13.75], \"line\": {\"color\": \"blue\", \"width\": 1}, \"lon\": [100.5166, -43.225, -118.4068, -99.131, 11.575, -3.6834, -0.1167, -73.9249, -79.42, 139.7514, -58.3975, 18.435, 55.28, 77.23, 12.4833, 2.3333, -9.1449, 37.6155, 29.01, 116.1944, 151.1852, 126.9997, 100.5166], \"marker\": {\"color\": \"red\", \"size\": 4}, \"mode\": \"lines+markers\", \"text\": [\"Bangkok\", \"Rio de Janeiro\", \"Los Angeles\", \"Mexico City\", \"Munich\", \"Madrid\", \"London\", \"New York\", \"Toronto\", \"Tokyo\", \"Buenos Aires\", \"Cape Town\", \"Dubai\", \"Delhi\", \"Rome\", \"Paris\", \"Lisbon\", \"Moscow\", \"Istanbul\", \"Changping\", \"Sydney\", \"Seoul\", \"Bangkok\"], \"type\": \"scattergeo\"}]}, {\"data\": [{\"lat\": [48.8667, 41.896, 43.7, 55.7522, 25.23, 38.7227, -34.6025, -22.925, 34.1139, 19.4424, 48.1299, 41.105, 13.75, 28.67, -33.92, 40.4, 51.5, 40.2248, 35.685, 37.5663, -33.92, 40.6943, 48.8667], \"line\": {\"color\": \"blue\", \"width\": 1}, \"lon\": [2.3333, 12.4833, -79.42, 37.6155, 55.28, -9.1449, -58.3975, -43.225, -118.4068, -99.131, 11.575, 29.01, 100.5166, 77.23, 18.435, -3.6834, -0.1167, 116.1944, 139.7514, 126.9997, 151.1852, -73.9249, 2.3333], \"marker\": {\"color\": \"red\", \"size\": 4}, \"mode\": \"lines+markers\", \"text\": [\"Paris\", \"Rome\", \"Toronto\", \"Moscow\", \"Dubai\", \"Lisbon\", \"Buenos Aires\", \"Rio de Janeiro\", \"Los Angeles\", \"Mexico City\", \"Munich\", \"Istanbul\", \"Bangkok\", \"Delhi\", \"Cape Town\", \"Madrid\", \"London\", \"Changping\", \"Tokyo\", \"Seoul\", \"Sydney\", \"New York\", \"Paris\"], \"type\": \"scattergeo\"}]}, {\"data\": [{\"lat\": [19.4424, 40.6943, 43.7, -34.6025, -33.92, 25.23, 48.8667, 41.896, 40.4, 51.5, 40.2248, 35.685, 28.67, 13.75, 41.105, 48.1299, 38.7227, 55.7522, -33.92, 37.5663, -22.925, 34.1139, 19.4424], \"line\": {\"color\": \"blue\", \"width\": 1}, \"lon\": [-99.131, -73.9249, -79.42, -58.3975, 18.435, 55.28, 2.3333, 12.4833, -3.6834, -0.1167, 116.1944, 139.7514, 77.23, 100.5166, 29.01, 11.575, -9.1449, 37.6155, 151.1852, 126.9997, -43.225, -118.4068, -99.131], \"marker\": {\"color\": \"red\", \"size\": 4}, \"mode\": \"lines+markers\", \"text\": [\"Mexico City\", \"New York\", \"Toronto\", \"Buenos Aires\", \"Cape Town\", \"Dubai\", \"Paris\", \"Rome\", \"Madrid\", \"London\", \"Changping\", \"Tokyo\", \"Delhi\", \"Bangkok\", \"Istanbul\", \"Munich\", \"Lisbon\", \"Moscow\", \"Sydney\", \"Seoul\", \"Rio de Janeiro\", \"Los Angeles\", \"Mexico City\"], \"type\": \"scattergeo\"}]}, {\"data\": [{\"lat\": [19.4424, 40.6943, 43.7, -34.6025, -33.92, 25.23, 48.8667, 41.896, 37.5663, -33.92, 55.7522, 38.7227, 48.1299, 41.105, 13.75, 28.67, 35.685, 40.2248, 51.5, 40.4, -22.925, 34.1139, 19.4424], \"line\": {\"color\": \"blue\", \"width\": 1}, \"lon\": [-99.131, -73.9249, -79.42, -58.3975, 18.435, 55.28, 2.3333, 12.4833, 126.9997, 151.1852, 37.6155, -9.1449, 11.575, 29.01, 100.5166, 77.23, 139.7514, 116.1944, -0.1167, -3.6834, -43.225, -118.4068, -99.131], \"marker\": {\"color\": \"red\", \"size\": 4}, \"mode\": \"lines+markers\", \"text\": [\"Mexico City\", \"New York\", \"Toronto\", \"Buenos Aires\", \"Cape Town\", \"Dubai\", \"Paris\", \"Rome\", \"Seoul\", \"Sydney\", \"Moscow\", \"Lisbon\", \"Munich\", \"Istanbul\", \"Bangkok\", \"Delhi\", \"Tokyo\", \"Changping\", \"London\", \"Madrid\", \"Rio de Janeiro\", \"Los Angeles\", \"Mexico City\"], \"type\": \"scattergeo\"}]}, {\"data\": [{\"lat\": [19.4424, 40.6943, 43.7, -34.6025, -33.92, 25.23, 48.8667, 41.896, 40.2248, 35.685, 28.67, 13.75, 41.105, 48.1299, 38.7227, 55.7522, -33.92, 37.5663, 51.5, 40.4, -22.925, 34.1139, 19.4424], \"line\": {\"color\": \"blue\", \"width\": 1}, \"lon\": [-99.131, -73.9249, -79.42, -58.3975, 18.435, 55.28, 2.3333, 12.4833, 116.1944, 139.7514, 77.23, 100.5166, 29.01, 11.575, -9.1449, 37.6155, 151.1852, 126.9997, -0.1167, -3.6834, -43.225, -118.4068, -99.131], \"marker\": {\"color\": \"red\", \"size\": 4}, \"mode\": \"lines+markers\", \"text\": [\"Mexico City\", \"New York\", \"Toronto\", \"Buenos Aires\", \"Cape Town\", \"Dubai\", \"Paris\", \"Rome\", \"Changping\", \"Tokyo\", \"Delhi\", \"Bangkok\", \"Istanbul\", \"Munich\", \"Lisbon\", \"Moscow\", \"Sydney\", \"Seoul\", \"London\", \"Madrid\", \"Rio de Janeiro\", \"Los Angeles\", \"Mexico City\"], \"type\": \"scattergeo\"}]}, {\"data\": [{\"lat\": [19.4424, 40.6943, 43.7, -34.6025, -33.92, 25.23, 48.8667, 41.896, 40.2248, 35.685, 28.67, 13.75, 41.105, 48.1299, 38.7227, 55.7522, 40.4, 51.5, 37.5663, -33.92, -22.925, 34.1139, 19.4424], \"line\": {\"color\": \"blue\", \"width\": 1}, \"lon\": [-99.131, -73.9249, -79.42, -58.3975, 18.435, 55.28, 2.3333, 12.4833, 116.1944, 139.7514, 77.23, 100.5166, 29.01, 11.575, -9.1449, 37.6155, -3.6834, -0.1167, 126.9997, 151.1852, -43.225, -118.4068, -99.131], \"marker\": {\"color\": \"red\", \"size\": 4}, \"mode\": \"lines+markers\", \"text\": [\"Mexico City\", \"New York\", \"Toronto\", \"Buenos Aires\", \"Cape Town\", \"Dubai\", \"Paris\", \"Rome\", \"Changping\", \"Tokyo\", \"Delhi\", \"Bangkok\", \"Istanbul\", \"Munich\", \"Lisbon\", \"Moscow\", \"Madrid\", \"London\", \"Seoul\", \"Sydney\", \"Rio de Janeiro\", \"Los Angeles\", \"Mexico City\"], \"type\": \"scattergeo\"}]}, {\"data\": [{\"lat\": [19.4424, 40.6943, 43.7, -34.6025, -33.92, 25.23, 48.8667, 41.896, 40.2248, 35.685, 28.67, 13.75, 41.105, 48.1299, 38.7227, 51.5, 40.4, 55.7522, 37.5663, -33.92, -22.925, 34.1139, 19.4424], \"line\": {\"color\": \"blue\", \"width\": 1}, \"lon\": [-99.131, -73.9249, -79.42, -58.3975, 18.435, 55.28, 2.3333, 12.4833, 116.1944, 139.7514, 77.23, 100.5166, 29.01, 11.575, -9.1449, -0.1167, -3.6834, 37.6155, 126.9997, 151.1852, -43.225, -118.4068, -99.131], \"marker\": {\"color\": \"red\", \"size\": 4}, \"mode\": \"lines+markers\", \"text\": [\"Mexico City\", \"New York\", \"Toronto\", \"Buenos Aires\", \"Cape Town\", \"Dubai\", \"Paris\", \"Rome\", \"Changping\", \"Tokyo\", \"Delhi\", \"Bangkok\", \"Istanbul\", \"Munich\", \"Lisbon\", \"London\", \"Madrid\", \"Moscow\", \"Seoul\", \"Sydney\", \"Rio de Janeiro\", \"Los Angeles\", \"Mexico City\"], \"type\": \"scattergeo\"}]}, {\"data\": [{\"lat\": [19.4424, 40.6943, 43.7, -34.6025, -33.92, 25.23, 48.8667, 41.896, 40.2248, 35.685, 37.5663, 13.75, 41.105, 48.1299, 38.7227, 51.5, 40.4, 55.7522, 28.67, -33.92, -22.925, 34.1139, 19.4424], \"line\": {\"color\": \"blue\", \"width\": 1}, \"lon\": [-99.131, -73.9249, -79.42, -58.3975, 18.435, 55.28, 2.3333, 12.4833, 116.1944, 139.7514, 126.9997, 100.5166, 29.01, 11.575, -9.1449, -0.1167, -3.6834, 37.6155, 77.23, 151.1852, -43.225, -118.4068, -99.131], \"marker\": {\"color\": \"red\", \"size\": 4}, \"mode\": \"lines+markers\", \"text\": [\"Mexico City\", \"New York\", \"Toronto\", \"Buenos Aires\", \"Cape Town\", \"Dubai\", \"Paris\", \"Rome\", \"Changping\", \"Tokyo\", \"Seoul\", \"Bangkok\", \"Istanbul\", \"Munich\", \"Lisbon\", \"London\", \"Madrid\", \"Moscow\", \"Delhi\", \"Sydney\", \"Rio de Janeiro\", \"Los Angeles\", \"Mexico City\"], \"type\": \"scattergeo\"}]}, {\"data\": [{\"lat\": [19.4424, 40.6943, 43.7, -34.6025, -33.92, 25.23, 48.8667, 41.896, 40.2248, 28.67, 55.7522, 40.4, 51.5, 38.7227, 48.1299, 41.105, 13.75, 37.5663, 35.685, -33.92, -22.925, 34.1139, 19.4424], \"line\": {\"color\": \"blue\", \"width\": 1}, \"lon\": [-99.131, -73.9249, -79.42, -58.3975, 18.435, 55.28, 2.3333, 12.4833, 116.1944, 77.23, 37.6155, -3.6834, -0.1167, -9.1449, 11.575, 29.01, 100.5166, 126.9997, 139.7514, 151.1852, -43.225, -118.4068, -99.131], \"marker\": {\"color\": \"red\", \"size\": 4}, \"mode\": \"lines+markers\", \"text\": [\"Mexico City\", \"New York\", \"Toronto\", \"Buenos Aires\", \"Cape Town\", \"Dubai\", \"Paris\", \"Rome\", \"Changping\", \"Delhi\", \"Moscow\", \"Madrid\", \"London\", \"Lisbon\", \"Munich\", \"Istanbul\", \"Bangkok\", \"Seoul\", \"Tokyo\", \"Sydney\", \"Rio de Janeiro\", \"Los Angeles\", \"Mexico City\"], \"type\": \"scattergeo\"}]}, {\"data\": [{\"lat\": [19.4424, 40.6943, 43.7, -33.92, 28.67, 55.7522, 40.4, 51.5, 38.7227, 48.1299, 41.105, 13.75, 37.5663, 35.685, 40.2248, 41.896, 48.8667, 25.23, -33.92, -34.6025, -22.925, 34.1139, 19.4424], \"line\": {\"color\": \"blue\", \"width\": 1}, \"lon\": [-99.131, -73.9249, -79.42, 151.1852, 77.23, 37.6155, -3.6834, -0.1167, -9.1449, 11.575, 29.01, 100.5166, 126.9997, 139.7514, 116.1944, 12.4833, 2.3333, 55.28, 18.435, -58.3975, -43.225, -118.4068, -99.131], \"marker\": {\"color\": \"red\", \"size\": 4}, \"mode\": \"lines+markers\", \"text\": [\"Mexico City\", \"New York\", \"Toronto\", \"Sydney\", \"Delhi\", \"Moscow\", \"Madrid\", \"London\", \"Lisbon\", \"Munich\", \"Istanbul\", \"Bangkok\", \"Seoul\", \"Tokyo\", \"Changping\", \"Rome\", \"Paris\", \"Dubai\", \"Cape Town\", \"Buenos Aires\", \"Rio de Janeiro\", \"Los Angeles\", \"Mexico City\"], \"type\": \"scattergeo\"}]}, {\"data\": [{\"lat\": [43.7, -34.6025, -33.92, 25.23, 13.75, 37.5663, 35.685, 40.2248, 41.896, 38.7227, 51.5, 41.105, 48.1299, 48.8667, 40.4, 55.7522, 28.67, -33.92, -22.925, 34.1139, 19.4424, 40.6943, 43.7], \"line\": {\"color\": \"blue\", \"width\": 1}, \"lon\": [-79.42, -58.3975, 18.435, 55.28, 100.5166, 126.9997, 139.7514, 116.1944, 12.4833, -9.1449, -0.1167, 29.01, 11.575, 2.3333, -3.6834, 37.6155, 77.23, 151.1852, -43.225, -118.4068, -99.131, -73.9249, -79.42], \"marker\": {\"color\": \"red\", \"size\": 4}, \"mode\": \"lines+markers\", \"text\": [\"Toronto\", \"Buenos Aires\", \"Cape Town\", \"Dubai\", \"Bangkok\", \"Seoul\", \"Tokyo\", \"Changping\", \"Rome\", \"Lisbon\", \"London\", \"Istanbul\", \"Munich\", \"Paris\", \"Madrid\", \"Moscow\", \"Delhi\", \"Sydney\", \"Rio de Janeiro\", \"Los Angeles\", \"Mexico City\", \"New York\", \"Toronto\"], \"type\": \"scattergeo\"}]}, {\"data\": [{\"lat\": [40.6943, 43.7, -33.92, 28.67, 40.2248, 35.685, 37.5663, 13.75, 41.105, 48.1299, 38.7227, 51.5, 40.4, 55.7522, 48.8667, 41.896, 25.23, -33.92, -34.6025, -22.925, 34.1139, 19.4424, 40.6943], \"line\": {\"color\": \"blue\", \"width\": 1}, \"lon\": [-73.9249, -79.42, 151.1852, 77.23, 116.1944, 139.7514, 126.9997, 100.5166, 29.01, 11.575, -9.1449, -0.1167, -3.6834, 37.6155, 2.3333, 12.4833, 55.28, 18.435, -58.3975, -43.225, -118.4068, -99.131, -73.9249], \"marker\": {\"color\": \"red\", \"size\": 4}, \"mode\": \"lines+markers\", \"text\": [\"New York\", \"Toronto\", \"Sydney\", \"Delhi\", \"Changping\", \"Tokyo\", \"Seoul\", \"Bangkok\", \"Istanbul\", \"Munich\", \"Lisbon\", \"London\", \"Madrid\", \"Moscow\", \"Paris\", \"Rome\", \"Dubai\", \"Cape Town\", \"Buenos Aires\", \"Rio de Janeiro\", \"Los Angeles\", \"Mexico City\", \"New York\"], \"type\": \"scattergeo\"}]}, {\"data\": [{\"lat\": [40.6943, 43.7, -33.92, 37.5663, 35.685, 40.2248, 28.67, 13.75, 41.105, 48.1299, 38.7227, 51.5, 40.4, 55.7522, 48.8667, 41.896, 25.23, -33.92, -34.6025, -22.925, 34.1139, 19.4424, 40.6943], \"line\": {\"color\": \"blue\", \"width\": 1}, \"lon\": [-73.9249, -79.42, 151.1852, 126.9997, 139.7514, 116.1944, 77.23, 100.5166, 29.01, 11.575, -9.1449, -0.1167, -3.6834, 37.6155, 2.3333, 12.4833, 55.28, 18.435, -58.3975, -43.225, -118.4068, -99.131, -73.9249], \"marker\": {\"color\": \"red\", \"size\": 4}, \"mode\": \"lines+markers\", \"text\": [\"New York\", \"Toronto\", \"Sydney\", \"Seoul\", \"Tokyo\", \"Changping\", \"Delhi\", \"Bangkok\", \"Istanbul\", \"Munich\", \"Lisbon\", \"London\", \"Madrid\", \"Moscow\", \"Paris\", \"Rome\", \"Dubai\", \"Cape Town\", \"Buenos Aires\", \"Rio de Janeiro\", \"Los Angeles\", \"Mexico City\", \"New York\"], \"type\": \"scattergeo\"}]}, {\"data\": [{\"lat\": [40.6943, 43.7, 28.67, 40.2248, 37.5663, 35.685, -33.92, 13.75, 41.105, 48.1299, 38.7227, 51.5, 40.4, 55.7522, 48.8667, 41.896, 25.23, -33.92, -34.6025, -22.925, 34.1139, 19.4424, 40.6943], \"line\": {\"color\": \"blue\", \"width\": 1}, \"lon\": [-73.9249, -79.42, 77.23, 116.1944, 126.9997, 139.7514, 151.1852, 100.5166, 29.01, 11.575, -9.1449, -0.1167, -3.6834, 37.6155, 2.3333, 12.4833, 55.28, 18.435, -58.3975, -43.225, -118.4068, -99.131, -73.9249], \"marker\": {\"color\": \"red\", \"size\": 4}, \"mode\": \"lines+markers\", \"text\": [\"New York\", \"Toronto\", \"Delhi\", \"Changping\", \"Seoul\", \"Tokyo\", \"Sydney\", \"Bangkok\", \"Istanbul\", \"Munich\", \"Lisbon\", \"London\", \"Madrid\", \"Moscow\", \"Paris\", \"Rome\", \"Dubai\", \"Cape Town\", \"Buenos Aires\", \"Rio de Janeiro\", \"Los Angeles\", \"Mexico City\", \"New York\"], \"type\": \"scattergeo\"}]}, {\"data\": [{\"lat\": [40.6943, 43.7, 13.75, -33.92, 35.685, 37.5663, 40.2248, 28.67, 41.105, 48.1299, 38.7227, 51.5, 40.4, 55.7522, 48.8667, 41.896, 25.23, -33.92, -34.6025, -22.925, 34.1139, 19.4424, 40.6943], \"line\": {\"color\": \"blue\", \"width\": 1}, \"lon\": [-73.9249, -79.42, 100.5166, 151.1852, 139.7514, 126.9997, 116.1944, 77.23, 29.01, 11.575, -9.1449, -0.1167, -3.6834, 37.6155, 2.3333, 12.4833, 55.28, 18.435, -58.3975, -43.225, -118.4068, -99.131, -73.9249], \"marker\": {\"color\": \"red\", \"size\": 4}, \"mode\": \"lines+markers\", \"text\": [\"New York\", \"Toronto\", \"Bangkok\", \"Sydney\", \"Tokyo\", \"Seoul\", \"Changping\", \"Delhi\", \"Istanbul\", \"Munich\", \"Lisbon\", \"London\", \"Madrid\", \"Moscow\", \"Paris\", \"Rome\", \"Dubai\", \"Cape Town\", \"Buenos Aires\", \"Rio de Janeiro\", \"Los Angeles\", \"Mexico City\", \"New York\"], \"type\": \"scattergeo\"}]}, {\"data\": [{\"lat\": [40.6943, 43.7, 13.75, -33.92, 35.685, 37.5663, 40.2248, 28.67, 41.105, 48.1299, 38.7227, 51.5, 40.4, 41.896, 48.8667, 55.7522, 25.23, -33.92, -34.6025, -22.925, 34.1139, 19.4424, 40.6943], \"line\": {\"color\": \"blue\", \"width\": 1}, \"lon\": [-73.9249, -79.42, 100.5166, 151.1852, 139.7514, 126.9997, 116.1944, 77.23, 29.01, 11.575, -9.1449, -0.1167, -3.6834, 12.4833, 2.3333, 37.6155, 55.28, 18.435, -58.3975, -43.225, -118.4068, -99.131, -73.9249], \"marker\": {\"color\": \"red\", \"size\": 4}, \"mode\": \"lines+markers\", \"text\": [\"New York\", \"Toronto\", \"Bangkok\", \"Sydney\", \"Tokyo\", \"Seoul\", \"Changping\", \"Delhi\", \"Istanbul\", \"Munich\", \"Lisbon\", \"London\", \"Madrid\", \"Rome\", \"Paris\", \"Moscow\", \"Dubai\", \"Cape Town\", \"Buenos Aires\", \"Rio de Janeiro\", \"Los Angeles\", \"Mexico City\", \"New York\"], \"type\": \"scattergeo\"}]}, {\"data\": [{\"lat\": [40.6943, 43.7, 13.75, -33.92, 35.685, 37.5663, 40.2248, 28.67, 41.105, 48.1299, 38.7227, 51.5, 40.4, 41.896, 48.8667, 55.7522, 25.23, -33.92, -22.925, -34.6025, 34.1139, 19.4424, 40.6943], \"line\": {\"color\": \"blue\", \"width\": 1}, \"lon\": [-73.9249, -79.42, 100.5166, 151.1852, 139.7514, 126.9997, 116.1944, 77.23, 29.01, 11.575, -9.1449, -0.1167, -3.6834, 12.4833, 2.3333, 37.6155, 55.28, 18.435, -43.225, -58.3975, -118.4068, -99.131, -73.9249], \"marker\": {\"color\": \"red\", \"size\": 4}, \"mode\": \"lines+markers\", \"text\": [\"New York\", \"Toronto\", \"Bangkok\", \"Sydney\", \"Tokyo\", \"Seoul\", \"Changping\", \"Delhi\", \"Istanbul\", \"Munich\", \"Lisbon\", \"London\", \"Madrid\", \"Rome\", \"Paris\", \"Moscow\", \"Dubai\", \"Cape Town\", \"Rio de Janeiro\", \"Buenos Aires\", \"Los Angeles\", \"Mexico City\", \"New York\"], \"type\": \"scattergeo\"}]}, {\"data\": [{\"lat\": [40.6943, 43.7, 37.5663, 35.685, -33.92, 13.75, 40.2248, 28.67, 41.105, 48.1299, 38.7227, 51.5, 40.4, 41.896, 48.8667, 55.7522, 25.23, -33.92, -22.925, -34.6025, 34.1139, 19.4424, 40.6943], \"line\": {\"color\": \"blue\", \"width\": 1}, \"lon\": [-73.9249, -79.42, 126.9997, 139.7514, 151.1852, 100.5166, 116.1944, 77.23, 29.01, 11.575, -9.1449, -0.1167, -3.6834, 12.4833, 2.3333, 37.6155, 55.28, 18.435, -43.225, -58.3975, -118.4068, -99.131, -73.9249], \"marker\": {\"color\": \"red\", \"size\": 4}, \"mode\": \"lines+markers\", \"text\": [\"New York\", \"Toronto\", \"Seoul\", \"Tokyo\", \"Sydney\", \"Bangkok\", \"Changping\", \"Delhi\", \"Istanbul\", \"Munich\", \"Lisbon\", \"London\", \"Madrid\", \"Rome\", \"Paris\", \"Moscow\", \"Dubai\", \"Cape Town\", \"Rio de Janeiro\", \"Buenos Aires\", \"Los Angeles\", \"Mexico City\", \"New York\"], \"type\": \"scattergeo\"}]}, {\"data\": [{\"lat\": [40.6943, 43.7, -33.92, 13.75, 35.685, 37.5663, 40.2248, 28.67, 41.105, 48.1299, 38.7227, 51.5, 40.4, 41.896, 48.8667, 55.7522, 25.23, -33.92, -22.925, -34.6025, 34.1139, 19.4424, 40.6943], \"line\": {\"color\": \"blue\", \"width\": 1}, \"lon\": [-73.9249, -79.42, 151.1852, 100.5166, 139.7514, 126.9997, 116.1944, 77.23, 29.01, 11.575, -9.1449, -0.1167, -3.6834, 12.4833, 2.3333, 37.6155, 55.28, 18.435, -43.225, -58.3975, -118.4068, -99.131, -73.9249], \"marker\": {\"color\": \"red\", \"size\": 4}, \"mode\": \"lines+markers\", \"text\": [\"New York\", \"Toronto\", \"Sydney\", \"Bangkok\", \"Tokyo\", \"Seoul\", \"Changping\", \"Delhi\", \"Istanbul\", \"Munich\", \"Lisbon\", \"London\", \"Madrid\", \"Rome\", \"Paris\", \"Moscow\", \"Dubai\", \"Cape Town\", \"Rio de Janeiro\", \"Buenos Aires\", \"Los Angeles\", \"Mexico City\", \"New York\"], \"type\": \"scattergeo\"}]}, {\"data\": [{\"lat\": [40.6943, 43.7, -33.92, 13.75, 35.685, 37.5663, 40.2248, 28.67, 41.105, 48.1299, 38.7227, 51.5, 40.4, 48.8667, 41.896, 55.7522, 25.23, -33.92, -22.925, -34.6025, 34.1139, 19.4424, 40.6943], \"line\": {\"color\": \"blue\", \"width\": 1}, \"lon\": [-73.9249, -79.42, 151.1852, 100.5166, 139.7514, 126.9997, 116.1944, 77.23, 29.01, 11.575, -9.1449, -0.1167, -3.6834, 2.3333, 12.4833, 37.6155, 55.28, 18.435, -43.225, -58.3975, -118.4068, -99.131, -73.9249], \"marker\": {\"color\": \"red\", \"size\": 4}, \"mode\": \"lines+markers\", \"text\": [\"New York\", \"Toronto\", \"Sydney\", \"Bangkok\", \"Tokyo\", \"Seoul\", \"Changping\", \"Delhi\", \"Istanbul\", \"Munich\", \"Lisbon\", \"London\", \"Madrid\", \"Paris\", \"Rome\", \"Moscow\", \"Dubai\", \"Cape Town\", \"Rio de Janeiro\", \"Buenos Aires\", \"Los Angeles\", \"Mexico City\", \"New York\"], \"type\": \"scattergeo\"}]}, {\"data\": [{\"lat\": [40.6943, 43.7, -33.92, 13.75, 35.685, 37.5663, 40.2248, 28.67, 41.105, 48.1299, 48.8667, 40.4, 51.5, 38.7227, 41.896, 55.7522, 25.23, -33.92, -22.925, -34.6025, 34.1139, 19.4424, 40.6943], \"line\": {\"color\": \"blue\", \"width\": 1}, \"lon\": [-73.9249, -79.42, 151.1852, 100.5166, 139.7514, 126.9997, 116.1944, 77.23, 29.01, 11.575, 2.3333, -3.6834, -0.1167, -9.1449, 12.4833, 37.6155, 55.28, 18.435, -43.225, -58.3975, -118.4068, -99.131, -73.9249], \"marker\": {\"color\": \"red\", \"size\": 4}, \"mode\": \"lines+markers\", \"text\": [\"New York\", \"Toronto\", \"Sydney\", \"Bangkok\", \"Tokyo\", \"Seoul\", \"Changping\", \"Delhi\", \"Istanbul\", \"Munich\", \"Paris\", \"Madrid\", \"London\", \"Lisbon\", \"Rome\", \"Moscow\", \"Dubai\", \"Cape Town\", \"Rio de Janeiro\", \"Buenos Aires\", \"Los Angeles\", \"Mexico City\", \"New York\"], \"type\": \"scattergeo\"}]}, {\"data\": [{\"lat\": [40.6943, 43.7, -34.6025, -22.925, -33.92, 25.23, 55.7522, 41.896, 48.8667, 40.4, 51.5, 38.7227, 48.1299, 41.105, 28.67, 40.2248, 37.5663, 35.685, 13.75, -33.92, 34.1139, 19.4424, 40.6943], \"line\": {\"color\": \"blue\", \"width\": 1}, \"lon\": [-73.9249, -79.42, -58.3975, -43.225, 18.435, 55.28, 37.6155, 12.4833, 2.3333, -3.6834, -0.1167, -9.1449, 11.575, 29.01, 77.23, 116.1944, 126.9997, 139.7514, 100.5166, 151.1852, -118.4068, -99.131, -73.9249], \"marker\": {\"color\": \"red\", \"size\": 4}, \"mode\": \"lines+markers\", \"text\": [\"New York\", \"Toronto\", \"Buenos Aires\", \"Rio de Janeiro\", \"Cape Town\", \"Dubai\", \"Moscow\", \"Rome\", \"Paris\", \"Madrid\", \"London\", \"Lisbon\", \"Munich\", \"Istanbul\", \"Delhi\", \"Changping\", \"Seoul\", \"Tokyo\", \"Bangkok\", \"Sydney\", \"Los Angeles\", \"Mexico City\", \"New York\"], \"type\": \"scattergeo\"}]}, {\"data\": [{\"lat\": [40.6943, 43.7, -34.6025, -22.925, -33.92, 25.23, 55.7522, 41.896, 48.8667, 51.5, 40.4, 38.7227, 48.1299, 41.105, 28.67, 40.2248, 37.5663, 35.685, 13.75, -33.92, 34.1139, 19.4424, 40.6943], \"line\": {\"color\": \"blue\", \"width\": 1}, \"lon\": [-73.9249, -79.42, -58.3975, -43.225, 18.435, 55.28, 37.6155, 12.4833, 2.3333, -0.1167, -3.6834, -9.1449, 11.575, 29.01, 77.23, 116.1944, 126.9997, 139.7514, 100.5166, 151.1852, -118.4068, -99.131, -73.9249], \"marker\": {\"color\": \"red\", \"size\": 4}, \"mode\": \"lines+markers\", \"text\": [\"New York\", \"Toronto\", \"Buenos Aires\", \"Rio de Janeiro\", \"Cape Town\", \"Dubai\", \"Moscow\", \"Rome\", \"Paris\", \"London\", \"Madrid\", \"Lisbon\", \"Munich\", \"Istanbul\", \"Delhi\", \"Changping\", \"Seoul\", \"Tokyo\", \"Bangkok\", \"Sydney\", \"Los Angeles\", \"Mexico City\", \"New York\"], \"type\": \"scattergeo\"}]}, {\"data\": [{\"lat\": [40.6943, 43.7, -34.6025, -22.925, -33.92, 25.23, 55.7522, 48.1299, 38.7227, 40.4, 51.5, 48.8667, 41.896, 41.105, 28.67, 40.2248, 37.5663, 35.685, 13.75, -33.92, 34.1139, 19.4424, 40.6943], \"line\": {\"color\": \"blue\", \"width\": 1}, \"lon\": [-73.9249, -79.42, -58.3975, -43.225, 18.435, 55.28, 37.6155, 11.575, -9.1449, -3.6834, -0.1167, 2.3333, 12.4833, 29.01, 77.23, 116.1944, 126.9997, 139.7514, 100.5166, 151.1852, -118.4068, -99.131, -73.9249], \"marker\": {\"color\": \"red\", \"size\": 4}, \"mode\": \"lines+markers\", \"text\": [\"New York\", \"Toronto\", \"Buenos Aires\", \"Rio de Janeiro\", \"Cape Town\", \"Dubai\", \"Moscow\", \"Munich\", \"Lisbon\", \"Madrid\", \"London\", \"Paris\", \"Rome\", \"Istanbul\", \"Delhi\", \"Changping\", \"Seoul\", \"Tokyo\", \"Bangkok\", \"Sydney\", \"Los Angeles\", \"Mexico City\", \"New York\"], \"type\": \"scattergeo\"}]}, {\"data\": [{\"lat\": [40.6943, 43.7, -34.6025, -22.925, -33.92, 41.105, 41.896, 48.8667, 51.5, 40.4, 38.7227, 48.1299, 55.7522, 25.23, 28.67, 40.2248, 37.5663, 35.685, 13.75, -33.92, 34.1139, 19.4424, 40.6943], \"line\": {\"color\": \"blue\", \"width\": 1}, \"lon\": [-73.9249, -79.42, -58.3975, -43.225, 18.435, 29.01, 12.4833, 2.3333, -0.1167, -3.6834, -9.1449, 11.575, 37.6155, 55.28, 77.23, 116.1944, 126.9997, 139.7514, 100.5166, 151.1852, -118.4068, -99.131, -73.9249], \"marker\": {\"color\": \"red\", \"size\": 4}, \"mode\": \"lines+markers\", \"text\": [\"New York\", \"Toronto\", \"Buenos Aires\", \"Rio de Janeiro\", \"Cape Town\", \"Istanbul\", \"Rome\", \"Paris\", \"London\", \"Madrid\", \"Lisbon\", \"Munich\", \"Moscow\", \"Dubai\", \"Delhi\", \"Changping\", \"Seoul\", \"Tokyo\", \"Bangkok\", \"Sydney\", \"Los Angeles\", \"Mexico City\", \"New York\"], \"type\": \"scattergeo\"}]}, {\"data\": [{\"lat\": [43.7, -34.6025, -22.925, -33.92, 41.105, 41.896, 48.8667, 51.5, 40.4, 38.7227, 48.1299, 55.7522, 25.23, 28.67, 40.2248, 37.5663, 35.685, 13.75, -33.92, 34.1139, 19.4424, 40.6943, 43.7], \"line\": {\"color\": \"blue\", \"width\": 1}, \"lon\": [-79.42, -58.3975, -43.225, 18.435, 29.01, 12.4833, 2.3333, -0.1167, -3.6834, -9.1449, 11.575, 37.6155, 55.28, 77.23, 116.1944, 126.9997, 139.7514, 100.5166, 151.1852, -118.4068, -99.131, -73.9249, -79.42], \"marker\": {\"color\": \"red\", \"size\": 4}, \"mode\": \"lines+markers\", \"text\": [\"Toronto\", \"Buenos Aires\", \"Rio de Janeiro\", \"Cape Town\", \"Istanbul\", \"Rome\", \"Paris\", \"London\", \"Madrid\", \"Lisbon\", \"Munich\", \"Moscow\", \"Dubai\", \"Delhi\", \"Changping\", \"Seoul\", \"Tokyo\", \"Bangkok\", \"Sydney\", \"Los Angeles\", \"Mexico City\", \"New York\", \"Toronto\"], \"type\": \"scattergeo\"}]}, {\"data\": [{\"lat\": [43.7, -34.6025, -22.925, -33.92, 41.105, 41.896, 48.8667, 51.5, 38.7227, 40.4, 48.1299, 55.7522, 25.23, 28.67, 40.2248, 37.5663, 35.685, 13.75, -33.92, 34.1139, 19.4424, 40.6943, 43.7], \"line\": {\"color\": \"blue\", \"width\": 1}, \"lon\": [-79.42, -58.3975, -43.225, 18.435, 29.01, 12.4833, 2.3333, -0.1167, -9.1449, -3.6834, 11.575, 37.6155, 55.28, 77.23, 116.1944, 126.9997, 139.7514, 100.5166, 151.1852, -118.4068, -99.131, -73.9249, -79.42], \"marker\": {\"color\": \"red\", \"size\": 4}, \"mode\": \"lines+markers\", \"text\": [\"Toronto\", \"Buenos Aires\", \"Rio de Janeiro\", \"Cape Town\", \"Istanbul\", \"Rome\", \"Paris\", \"London\", \"Lisbon\", \"Madrid\", \"Munich\", \"Moscow\", \"Dubai\", \"Delhi\", \"Changping\", \"Seoul\", \"Tokyo\", \"Bangkok\", \"Sydney\", \"Los Angeles\", \"Mexico City\", \"New York\", \"Toronto\"], \"type\": \"scattergeo\"}]}, {\"data\": [{\"lat\": [43.7, 34.1139, -33.92, 13.75, 35.685, 37.5663, 40.2248, 28.67, 25.23, 55.7522, 48.1299, 40.4, 38.7227, 51.5, 48.8667, 41.896, 41.105, -33.92, -22.925, -34.6025, 19.4424, 40.6943, 43.7], \"line\": {\"color\": \"blue\", \"width\": 1}, \"lon\": [-79.42, -118.4068, 151.1852, 100.5166, 139.7514, 126.9997, 116.1944, 77.23, 55.28, 37.6155, 11.575, -3.6834, -9.1449, -0.1167, 2.3333, 12.4833, 29.01, 18.435, -43.225, -58.3975, -99.131, -73.9249, -79.42], \"marker\": {\"color\": \"red\", \"size\": 4}, \"mode\": \"lines+markers\", \"text\": [\"Toronto\", \"Los Angeles\", \"Sydney\", \"Bangkok\", \"Tokyo\", \"Seoul\", \"Changping\", \"Delhi\", \"Dubai\", \"Moscow\", \"Munich\", \"Madrid\", \"Lisbon\", \"London\", \"Paris\", \"Rome\", \"Istanbul\", \"Cape Town\", \"Rio de Janeiro\", \"Buenos Aires\", \"Mexico City\", \"New York\", \"Toronto\"], \"type\": \"scattergeo\"}]}, {\"data\": [{\"lat\": [43.7, 34.1139, -33.92, 13.75, 35.685, 37.5663, 40.2248, 28.67, 25.23, 55.7522, 48.1299, 48.8667, 51.5, 38.7227, 40.4, 41.896, 41.105, -33.92, -22.925, -34.6025, 19.4424, 40.6943, 43.7], \"line\": {\"color\": \"blue\", \"width\": 1}, \"lon\": [-79.42, -118.4068, 151.1852, 100.5166, 139.7514, 126.9997, 116.1944, 77.23, 55.28, 37.6155, 11.575, 2.3333, -0.1167, -9.1449, -3.6834, 12.4833, 29.01, 18.435, -43.225, -58.3975, -99.131, -73.9249, -79.42], \"marker\": {\"color\": \"red\", \"size\": 4}, \"mode\": \"lines+markers\", \"text\": [\"Toronto\", \"Los Angeles\", \"Sydney\", \"Bangkok\", \"Tokyo\", \"Seoul\", \"Changping\", \"Delhi\", \"Dubai\", \"Moscow\", \"Munich\", \"Paris\", \"London\", \"Lisbon\", \"Madrid\", \"Rome\", \"Istanbul\", \"Cape Town\", \"Rio de Janeiro\", \"Buenos Aires\", \"Mexico City\", \"New York\", \"Toronto\"], \"type\": \"scattergeo\"}]}, {\"data\": [{\"lat\": [-33.92, 13.75, 35.685, 37.5663, 40.2248, 28.67, 25.23, 55.7522, 48.1299, 48.8667, 51.5, 38.7227, 40.4, 41.896, 41.105, -33.92, -22.925, -34.6025, 19.4424, 40.6943, 43.7, 34.1139, -33.92], \"line\": {\"color\": \"blue\", \"width\": 1}, \"lon\": [151.1852, 100.5166, 139.7514, 126.9997, 116.1944, 77.23, 55.28, 37.6155, 11.575, 2.3333, -0.1167, -9.1449, -3.6834, 12.4833, 29.01, 18.435, -43.225, -58.3975, -99.131, -73.9249, -79.42, -118.4068, 151.1852], \"marker\": {\"color\": \"red\", \"size\": 4}, \"mode\": \"lines+markers\", \"text\": [\"Sydney\", \"Bangkok\", \"Tokyo\", \"Seoul\", \"Changping\", \"Delhi\", \"Dubai\", \"Moscow\", \"Munich\", \"Paris\", \"London\", \"Lisbon\", \"Madrid\", \"Rome\", \"Istanbul\", \"Cape Town\", \"Rio de Janeiro\", \"Buenos Aires\", \"Mexico City\", \"New York\", \"Toronto\", \"Los Angeles\", \"Sydney\"], \"type\": \"scattergeo\"}]}, {\"data\": [{\"lat\": [13.75, 35.685, 37.5663, 40.2248, 28.67, 25.23, 55.7522, 48.1299, 48.8667, 51.5, 38.7227, 40.4, 41.896, 41.105, -33.92, -22.925, -34.6025, 19.4424, 40.6943, 43.7, 34.1139, -33.92, 13.75], \"line\": {\"color\": \"blue\", \"width\": 1}, \"lon\": [100.5166, 139.7514, 126.9997, 116.1944, 77.23, 55.28, 37.6155, 11.575, 2.3333, -0.1167, -9.1449, -3.6834, 12.4833, 29.01, 18.435, -43.225, -58.3975, -99.131, -73.9249, -79.42, -118.4068, 151.1852, 100.5166], \"marker\": {\"color\": \"red\", \"size\": 4}, \"mode\": \"lines+markers\", \"text\": [\"Bangkok\", \"Tokyo\", \"Seoul\", \"Changping\", \"Delhi\", \"Dubai\", \"Moscow\", \"Munich\", \"Paris\", \"London\", \"Lisbon\", \"Madrid\", \"Rome\", \"Istanbul\", \"Cape Town\", \"Rio de Janeiro\", \"Buenos Aires\", \"Mexico City\", \"New York\", \"Toronto\", \"Los Angeles\", \"Sydney\", \"Bangkok\"], \"type\": \"scattergeo\"}]}, {\"data\": [{\"lat\": [13.75, 35.685, 37.5663, 40.2248, 28.67, 25.23, 55.7522, 41.105, 41.896, 48.1299, 48.8667, 51.5, 38.7227, 40.4, -33.92, -22.925, -34.6025, 19.4424, 40.6943, 43.7, 34.1139, -33.92, 13.75], \"line\": {\"color\": \"blue\", \"width\": 1}, \"lon\": [100.5166, 139.7514, 126.9997, 116.1944, 77.23, 55.28, 37.6155, 29.01, 12.4833, 11.575, 2.3333, -0.1167, -9.1449, -3.6834, 18.435, -43.225, -58.3975, -99.131, -73.9249, -79.42, -118.4068, 151.1852, 100.5166], \"marker\": {\"color\": \"red\", \"size\": 4}, \"mode\": \"lines+markers\", \"text\": [\"Bangkok\", \"Tokyo\", \"Seoul\", \"Changping\", \"Delhi\", \"Dubai\", \"Moscow\", \"Istanbul\", \"Rome\", \"Munich\", \"Paris\", \"London\", \"Lisbon\", \"Madrid\", \"Cape Town\", \"Rio de Janeiro\", \"Buenos Aires\", \"Mexico City\", \"New York\", \"Toronto\", \"Los Angeles\", \"Sydney\", \"Bangkok\"], \"type\": \"scattergeo\"}]}, {\"data\": [{\"lat\": [13.75, 35.685, 37.5663, 40.2248, 28.67, 25.23, 55.7522, 41.105, 41.896, 48.1299, 48.8667, 51.5, 38.7227, 40.4, 34.1139, 43.7, 40.6943, 19.4424, -34.6025, -22.925, -33.92, -33.92, 13.75], \"line\": {\"color\": \"blue\", \"width\": 1}, \"lon\": [100.5166, 139.7514, 126.9997, 116.1944, 77.23, 55.28, 37.6155, 29.01, 12.4833, 11.575, 2.3333, -0.1167, -9.1449, -3.6834, -118.4068, -79.42, -73.9249, -99.131, -58.3975, -43.225, 18.435, 151.1852, 100.5166], \"marker\": {\"color\": \"red\", \"size\": 4}, \"mode\": \"lines+markers\", \"text\": [\"Bangkok\", \"Tokyo\", \"Seoul\", \"Changping\", \"Delhi\", \"Dubai\", \"Moscow\", \"Istanbul\", \"Rome\", \"Munich\", \"Paris\", \"London\", \"Lisbon\", \"Madrid\", \"Los Angeles\", \"Toronto\", \"New York\", \"Mexico City\", \"Buenos Aires\", \"Rio de Janeiro\", \"Cape Town\", \"Sydney\", \"Bangkok\"], \"type\": \"scattergeo\"}]}, {\"data\": [{\"lat\": [13.75, 35.685, 37.5663, 40.2248, 28.67, 25.23, 55.7522, 41.105, 41.896, 48.1299, 48.8667, 51.5, 38.7227, 40.4, 40.6943, 43.7, 34.1139, 19.4424, -34.6025, -22.925, -33.92, -33.92, 13.75], \"line\": {\"color\": \"blue\", \"width\": 1}, \"lon\": [100.5166, 139.7514, 126.9997, 116.1944, 77.23, 55.28, 37.6155, 29.01, 12.4833, 11.575, 2.3333, -0.1167, -9.1449, -3.6834, -73.9249, -79.42, -118.4068, -99.131, -58.3975, -43.225, 18.435, 151.1852, 100.5166], \"marker\": {\"color\": \"red\", \"size\": 4}, \"mode\": \"lines+markers\", \"text\": [\"Bangkok\", \"Tokyo\", \"Seoul\", \"Changping\", \"Delhi\", \"Dubai\", \"Moscow\", \"Istanbul\", \"Rome\", \"Munich\", \"Paris\", \"London\", \"Lisbon\", \"Madrid\", \"New York\", \"Toronto\", \"Los Angeles\", \"Mexico City\", \"Buenos Aires\", \"Rio de Janeiro\", \"Cape Town\", \"Sydney\", \"Bangkok\"], \"type\": \"scattergeo\"}]}, {\"data\": [{\"lat\": [13.75, 35.685, 37.5663, 40.2248, 28.67, 25.23, 55.7522, 41.105, 41.896, 48.1299, 48.8667, 51.5, 40.4, 38.7227, 40.6943, 43.7, 34.1139, 19.4424, -34.6025, -22.925, -33.92, -33.92, 13.75], \"line\": {\"color\": \"blue\", \"width\": 1}, \"lon\": [100.5166, 139.7514, 126.9997, 116.1944, 77.23, 55.28, 37.6155, 29.01, 12.4833, 11.575, 2.3333, -0.1167, -3.6834, -9.1449, -73.9249, -79.42, -118.4068, -99.131, -58.3975, -43.225, 18.435, 151.1852, 100.5166], \"marker\": {\"color\": \"red\", \"size\": 4}, \"mode\": \"lines+markers\", \"text\": [\"Bangkok\", \"Tokyo\", \"Seoul\", \"Changping\", \"Delhi\", \"Dubai\", \"Moscow\", \"Istanbul\", \"Rome\", \"Munich\", \"Paris\", \"London\", \"Madrid\", \"Lisbon\", \"New York\", \"Toronto\", \"Los Angeles\", \"Mexico City\", \"Buenos Aires\", \"Rio de Janeiro\", \"Cape Town\", \"Sydney\", \"Bangkok\"], \"type\": \"scattergeo\"}]}]);\n",
       "                        }).then(function(){\n",
       "                            \n",
       "var gd = document.getElementById('3e3f6031-395a-4b3e-9723-0d08305dcb09');\n",
       "var x = new MutationObserver(function (mutations, observer) {{\n",
       "        var display = window.getComputedStyle(gd).display;\n",
       "        if (!display || display === 'none') {{\n",
       "            console.log([gd, 'removed!']);\n",
       "            Plotly.purge(gd);\n",
       "            observer.disconnect();\n",
       "        }}\n",
       "}});\n",
       "\n",
       "// Listen for the removal of the full notebook cells\n",
       "var notebookContainer = gd.closest('#notebook-container');\n",
       "if (notebookContainer) {{\n",
       "    x.observe(notebookContainer, {childList: true});\n",
       "}}\n",
       "\n",
       "// Listen for the clearing of the current output cell\n",
       "var outputEl = gd.closest('.output');\n",
       "if (outputEl) {{\n",
       "    x.observe(outputEl, {childList: true});\n",
       "}}\n",
       "\n",
       "                        })\n",
       "                };\n",
       "                });\n",
       "            </script>\n",
       "        </div>"
      ]
     },
     "metadata": {},
     "output_type": "display_data"
    }
   ],
   "source": [
    "import plotly.graph_objects as go\n",
    "\n",
    "# Create figure\n",
    "fig = go.Figure(\n",
    "    data=[go.Scattergeo(lat=df.loc[df.loc[:,\"generation\"] == 'Generation_0',\"x_coordinate\"] , \n",
    "                     lon=df.loc[df.loc[:,\"generation\"] == 'Generation_0',\"y_coordinate\"] ,\n",
    "                     hoverinfo = 'text',\n",
    "                     text = df.loc[df.loc[:,\"generation\"] == 'Generation_0',\"name_city\"],\n",
    "                     mode=\"lines+markers\",\n",
    "                     line=dict(width=1, color=\"blue\"),\n",
    "                     marker=dict(size=4, color=\"red\"))],\n",
    "    layout=go.Layout(\n",
    "#         xaxis=dict(range=[-60,60], autorange=False, zeroline=False),\n",
    "#         yaxis=dict(range=[-150,160], autorange=False, zeroline=False),\n",
    "        title_text=\"TSP Problem\", hovermode=\"closest\",\n",
    "        updatemenus=[dict(type=\"buttons\",\n",
    "                          buttons=[dict(label=\"Play\",\n",
    "                                        method=\"animate\",\n",
    "                                        args=[None]),\n",
    "                                   dict(label=\"Pause\",\n",
    "                                        method=\"animate\",\n",
    "                                        args=[None])])]),\n",
    "    frames=[go.Frame(\n",
    "        data=[go.Scattergeo(lat=df.loc[df.loc[:,\"generation\"] == k,\"x_coordinate\"] , \n",
    "                     lon=df.loc[df.loc[:,\"generation\"] == k,\"y_coordinate\"] ,\n",
    "                     text = df.loc[df.loc[:,\"generation\"] == k,\"name_city\"],\n",
    "                     mode=\"lines+markers\",\n",
    "                     line=dict(width=1, color=\"blue\"),\n",
    "                     marker=dict(size=4, color=\"red\"))])\n",
    "\n",
    "        for k in df.loc[:,\"generation\"].unique()]\n",
    ")\n",
    "\n",
    "fig.show()"
   ]
  },
  {
   "cell_type": "code",
   "execution_count": null,
   "metadata": {},
   "outputs": [],
   "source": []
  }
 ],
 "metadata": {
  "kernelspec": {
   "display_name": "Python 3",
   "language": "python",
   "name": "python3"
  },
  "language_info": {
   "codemirror_mode": {
    "name": "ipython",
    "version": 3
   },
   "file_extension": ".py",
   "mimetype": "text/x-python",
   "name": "python",
   "nbconvert_exporter": "python",
   "pygments_lexer": "ipython3",
   "version": "3.7.3"
  }
 },
 "nbformat": 4,
 "nbformat_minor": 2
}
